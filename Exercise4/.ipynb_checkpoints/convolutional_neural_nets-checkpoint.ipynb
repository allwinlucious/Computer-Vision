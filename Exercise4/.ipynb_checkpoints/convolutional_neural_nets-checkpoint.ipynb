{
 "cells": [
  {
   "cell_type": "markdown",
   "metadata": {
    "deletable": false,
    "editable": false,
    "nbgrader": {
     "cell_type": "markdown",
     "checksum": "5530fced2150f71fec62adad5bc059ab",
     "grade": false,
     "grade_id": "cell-d9dbc74c08a75dc1",
     "locked": true,
     "schema_version": 3,
     "solution": false,
     "task": false
    }
   },
   "source": [
    "**Important**:\n",
    "Follow the instructions below when submitting your attempt.\n",
    "Submissions not following these instructions will not be graded.\n",
    "\n",
    "1. Submit in **teams of 3 or 4 students**, add their names and matriculation numbers below. Only **one team member should upload** the solutions.\n",
    "2. **Use jupyter notebook**. Other notebook-editing software (e.g. jupyter-lab, pycharm) might corrupt the notebook files and could have issues with displaying matplotlib interactively.\n",
    "3. **Do not remove, modify or duplicate** any given cells, except those in which you need to fill in your implementation. You can add new cells in order to present additional texts or plots.\n",
    "4. **Restart the kernel and re-run the whole notebook** once before submission. After this step, the cell id should be incremental from top to bottom, and all plots should be displayed.\n",
    "5. **Submit only the `.ipynb` files**, do not upload archives (zip, rar, tar, etc.), images or datasets.\n",
    "6. **Do not change the filenames** of the `.ipynb` files."
   ]
  },
  {
   "cell_type": "markdown",
   "metadata": {},
   "source": [
    "Team members (names and matriculation numbers):\n",
    "* \n",
    "* \n",
    "* \n",
    "* "
   ]
  },
  {
   "cell_type": "markdown",
   "metadata": {
    "deletable": false,
    "editable": false,
    "nbgrader": {
     "cell_type": "markdown",
     "checksum": "998274597e857a7baae7a8e41f51bcd8",
     "grade": false,
     "grade_id": "cell-67e1fcdd86afffc8",
     "locked": true,
     "schema_version": 3,
     "solution": false,
     "task": false
    }
   },
   "source": [
    "# Convolutional Neural Networks\n",
    "\n",
    "In this exercise you will be introduced to some practical aspects of deep learning in computer vision, including constructing a deep neural network and training it via gradient descent to tackle image classification. The PyTorch-framework will be used for this.\n",
    "\n",
    "We will tackle **image classification** through deep learning methods, in particular we will look at\n",
    "\n",
    "* Softmax regression with stochastic gradient descent and Adam\n",
    "* Multilayer perceptrons with tanh and ReLU\n",
    "* Data augmentation\n",
    "* A basic convolutional net\n",
    "* BatchNorm, striding, global average pooling\n",
    "* Residual networks\n",
    "* Learning rate decay\n",
    "\n",
    "\n",
    "### Install PyTorch\n",
    "\n",
    "Use `conda install -y pytorch torchvision cpuonly -c pytorch` to install PyTorch without GPU support (make sure that the correct conda environment is active). You may also install a GPU-build if you have a compatible GPU, see https://pytorch.org/get-started/locally/. Using a GPU will make the training several times faster, but since not all of you may have one, we have tried to scale this exercise with a CPU in mind.\n",
    "\n",
    "### TensorBoard Plotting\n",
    "\n",
    "TensorBoard is a web-based tool for drawing pretty plots of quantities we care about during training, such as the loss. Install it using `conda install -y tensorboard=2.8 -c conda-forge`.\n",
    "\n",
    "We need to choose a folder where these values will be stored (\"logdir\"). Start the TensorBoard server by executing e.g. `tensorboard --logdir tensorboard_logs` after you've activated your conda environment. If you change the logdir, also adjust it in the cell below.\n",
    "\n",
    "You can view the graphs by visiting http://localhost:6006/#custom_scalars in your browser (6006 is the default port).\n",
    "Make sure that \"Custom Scalars\" is selected at the top (not \"Scalars\") because this will give a better visualization.\n",
    "At first there will be nothing to plot, so it will be empty."
   ]
  },
  {
   "cell_type": "code",
   "execution_count": 1,
   "metadata": {},
   "outputs": [],
   "source": [
    "LOG_ROOT = 'tensorboard_logs'\n",
    "USE_GPU = True # Set to True if you have installed tensorflow for GPU"
   ]
  },
  {
   "cell_type": "code",
   "execution_count": 2,
   "metadata": {
    "deletable": false,
    "editable": false,
    "nbgrader": {
     "cell_type": "code",
     "checksum": "4e89c7101aa8040b705db9cd9df1d578",
     "grade": false,
     "grade_id": "cell-61c4af0db2f8c0b1",
     "locked": true,
     "schema_version": 3,
     "solution": false,
     "task": false
    }
   },
   "outputs": [
    {
     "data": {
      "text/html": [
       "<!-- Run this cell to add heading letters per subtask (like a, b, c) -->\n",
       "<style>\n",
       "body {counter-reset: section;}\n",
       "h2:before {counter-increment: section;\n",
       "           content: counter(section, lower-alpha) \") \";}\n",
       "</style>\n"
      ],
      "text/plain": [
       "<IPython.core.display.HTML object>"
      ]
     },
     "metadata": {},
     "output_type": "display_data"
    }
   ],
   "source": [
    "%%html\n",
    "<!-- Run this cell to add heading letters per subtask (like a, b, c) -->\n",
    "<style>\n",
    "body {counter-reset: section;}\n",
    "h2:before {counter-increment: section;\n",
    "           content: counter(section, lower-alpha) \") \";}\n",
    "</style>"
   ]
  },
  {
   "cell_type": "code",
   "execution_count": 3,
   "metadata": {
    "deletable": false,
    "editable": false,
    "nbgrader": {
     "cell_type": "code",
     "checksum": "20ace9163af2ca105e7e1709be8a721e",
     "grade": false,
     "grade_id": "cell-1073cd4f1b08084c",
     "locked": true,
     "schema_version": 3,
     "solution": false,
     "task": false
    }
   },
   "outputs": [],
   "source": [
    "%matplotlib inline\n",
    "import os\n",
    "import time\n",
    "import datetime\n",
    "import numpy as np\n",
    "import matplotlib.pyplot as plt\n",
    "import imageio\n",
    "import cv2\n",
    "import torch\n",
    "import torch.nn as nn\n",
    "import torch.nn.functional as F\n",
    "import torch.optim as optim\n",
    "from torchvision.datasets import CIFAR10\n",
    "from torch.utils.data import DataLoader\n",
    "import torchvision.transforms as transforms\n",
    "from torch.utils.tensorboard import SummaryWriter\n",
    "\n",
    "# Just an image plotting function\n",
    "def plot_multiple(images, titles=None, colormap='gray',\n",
    "                  max_columns=np.inf, imwidth=2, imheight=2, share_axes=False):\n",
    "    \"\"\"\n",
    "    Plot multiple images as subplots on a grid. Images must be channel-first\n",
    "    and between [0, 1].\n",
    "    \"\"\"\n",
    "    images = [np.transpose(im, (1, 2, 0)) for im in images]\n",
    "    if titles is None:\n",
    "        titles = [''] * len(images)\n",
    "    assert len(images) == len(titles)\n",
    "    n_images = len(images)\n",
    "    n_cols = min(max_columns, n_images)\n",
    "    n_rows = int(np.ceil(n_images / n_cols))\n",
    "    fig, axes = plt.subplots(\n",
    "        n_rows, n_cols, figsize=(n_cols * imwidth, n_rows * imheight),\n",
    "        squeeze=False, sharex=share_axes, sharey=share_axes)\n",
    "\n",
    "    axes = axes.flat\n",
    "    # Hide subplots without content\n",
    "    for ax in axes[n_images:]:\n",
    "        ax.axis('off')\n",
    "        \n",
    "    if not isinstance(colormap, (list,tuple)):\n",
    "        colormaps = [colormap]*n_images\n",
    "    else:\n",
    "        colormaps = colormap\n",
    "\n",
    "    for ax, image, title, cmap in zip(axes, images, titles, colormaps):\n",
    "        ax.imshow(image, cmap=cmap)\n",
    "        ax.set_title(title)\n",
    "        ax.get_xaxis().set_visible(False)\n",
    "        ax.get_yaxis().set_visible(False)\n",
    "        \n",
    "    fig.tight_layout()\n",
    "    \n",
    "def visualize_dataset(dataset, n_samples=24, max_columns=6):\n",
    "    xs, ys = list(zip(*[dataset[i] for i in range(n_samples)]))\n",
    "    plot_multiple([x / 2 + 0.5 for x in xs], [labels[i] for i in ys], max_columns=max_columns)"
   ]
  },
  {
   "cell_type": "markdown",
   "metadata": {
    "deletable": false,
    "editable": false,
    "nbgrader": {
     "cell_type": "markdown",
     "checksum": "b2ad2b3393aa21ed9038ff278d04f6c3",
     "grade": false,
     "grade_id": "cell-258c52e8e84d0db9",
     "locked": true,
     "schema_version": 3,
     "solution": false,
     "task": false
    }
   },
   "source": [
    "## Dataset Preparation\n",
    "We are going to tackle the classic image classification task using the **CIFAR-10 dataset**, containing 60,000 32x32 RGB images of 10 different classes (50,000 for training and 10,000 for testing). \n",
    "\n",
    "![image.png](cifar.png)\n",
    "\n",
    "The dataset is automatically downloaded if you run the next cell.\n",
    "It will take some time and might produce quite some output with the default Jupyter settings, but you can ignore this.\n",
    "After the dataset was downloaded once, this will not happen anymore.\n",
    "You may read more about the dataset at https://www.cs.toronto.edu/~kriz/cifar.html.\n",
    "\n",
    "Note, that for historical reasons PyTorch uses a \"channels-first\"-format, i.e. the order of the dimensions for an image is `NCHW` (batch-channels-height-width), not `NHWC` (batch-height-width-channels)."
   ]
  },
  {
   "cell_type": "code",
   "execution_count": 4,
   "metadata": {
    "deletable": false,
    "editable": false,
    "nbgrader": {
     "cell_type": "code",
     "checksum": "2580e9b4f35d3f8934f869e159a45b24",
     "grade": false,
     "grade_id": "cell-31d81f8c56fa930d",
     "locked": true,
     "schema_version": 3,
     "solution": false,
     "task": false
    }
   },
   "outputs": [
    {
     "name": "stdout",
     "output_type": "stream",
     "text": [
      "Files already downloaded and verified\n",
      "Files already downloaded and verified\n",
      "\n",
      "Shape of an image: torch.Size([3, 32, 32]).\n"
     ]
    },
    {
     "data": {
      "image/png": "[encoded data removed]",
      "text/plain": [
       "<Figure size 864x576 with 24 Axes>"
      ]
     },
     "metadata": {
      "needs_background": "light"
     },
     "output_type": "display_data"
    }
   ],
   "source": [
    "normalize_transform = transforms.Compose([\n",
    "    transforms.ToTensor(),\n",
    "    transforms.Normalize(0.5, 0.5)\n",
    "])\n",
    "\n",
    "train_data = CIFAR10(root='cifar10/train/', train=True, download=True, transform=normalize_transform)\n",
    "test_data = CIFAR10(root='cifar10/test/', train=False, download=True, transform=normalize_transform)\n",
    "labels = ['airplane', 'automobile', 'bird', 'cat', 'deer', 'dog', 'frog', 'horse', 'ship', 'truck']\n",
    "\n",
    "x, y = train_data[0]  # get an example from the dataset\n",
    "print(f'\\nShape of an image: {x.shape}.')\n",
    "visualize_dataset(train_data)"
   ]
  },
  {
   "cell_type": "markdown",
   "metadata": {
    "deletable": false,
    "editable": false,
    "nbgrader": {
     "cell_type": "markdown",
     "checksum": "f3b7f1fd44649770a44332cd5b8d4fc6",
     "grade": false,
     "grade_id": "cell-e030eef482140b24",
     "locked": true,
     "schema_version": 3,
     "solution": false,
     "task": false
    }
   },
   "source": [
    "## Softmax Regression\n",
    "\n",
    "Before considering convolutional neural networks, let us start with a simpler classifier called softmax regression (a.k.a. multinomial logistic regression). Note that even though the name contains \"regression\", this is a classification model.\n",
    "\n",
    "Softmax regression can be understood as a single-layer neural network. We first flatten our input image to a long vector $\\mathbf{x}$, consisting of $32\\cdot 32\\cdot 3 = 3072$ values. Then we predict class probabilities $\\hat{\\mathbf{y}}$ through a fully-connected layer with softmax activation:\n",
    "\n",
    "$$\n",
    "\\mathbf{z} = W \\mathbf{x} + \\mathbf{b} \\\\\n",
    "\\hat{y}_c = \\operatorname{softmax}(\\mathbf{z})_c = \\frac{\\exp{z_c}}{\\sum_{\\tilde{c}=1}^{10} \\exp{z_{\\tilde{c}}}}\n",
    "$$\n",
    "\n",
    "Here $z_c$ denotes the $c$th component of the vector $\\mathbf{z}$, called the vector of **logits**.\n",
    "The weights $W$ and biases $\\mathbf{b}$ will be learned during training.\n",
    "\n",
    "### Training\n",
    "\n",
    "We train the model by minimizing a **loss function** averaged over the training data. As we are tackling a classification problem, the **cross-entropy** is a suitable loss function:\n",
    "\n",
    "$$\n",
    "\\mathcal{L}_{CE}(\\mathbf{y}, \\hat{\\mathbf{y}}; W, \\mathbf{b}) = - \\sum_{c=1}^{10} y_c \\log{\\hat{y}_c}\n",
    "$$\n",
    "\n",
    "Note that in the above notation the ground-truth $\\mathbf{y}$ is a so-called **one-hot vector**, containing a single 1 component, while the remaining components \n",
    "are zeros. The model's predicted $\\hat{\\mathbf{y}}$ is a vector which also sums to one, but whose components all take continuous values in the range $(0, 1)$.\n",
    "\n",
    "We minimize the loss by **stochastic gradient descent** (SGD). That is, we repeatedly sample mini-batches from the training data and update the parameters (weights and biases) towards the direction of the steepest decrease of the loss averaged over the mini-batch. For example, the weight $w_{ij}$ (an element of the matrix $W$) is updated according to:\n",
    "\n",
    "$$\n",
    "w_{ij}^{(t+1)} = w_{ij}^{(t)} - \\eta \\cdot \\frac{\\partial \\mathcal{L}_{CE}} {\\partial w_{ij}},\n",
    "$$\n",
    "\n",
    "with $\\eta$ being the learning rate.\n",
    "\n",
    "----\n",
    "\n",
    "To build such a model in PyTorch, we take a `Sequential` module which accepts layers that are applied sequentially. Here we have two layers: `Flatten` converts the image into a long vector and `Linear` is a synonym for fully-connected layer. At the end we would expect a `Softmax` layer, but this has to be omitted since the PyTorch-implementation of cross-entropy already performs the softmax implicitly. If you check the equations above, you see why this is advantageous: the cross-entropy applies a $\\log$ to the $\\exp$ of the softmax, which cancel out. By doing both at once, we avoid unnecessary computations and reduce the risk of numerical issues.\n",
    "\n",
    "We further define the function `train_classifier` which performs the training process. These are the main steps:\n",
    "\n",
    "* Instantiate a `DataLoader` for each dataset split which shuffles the order of the data and creates minibatches.\n",
    "* Instantiate the `CrossEntropyLoss`. Note, that this loss implicitely computes the softmax.\n",
    "* Iterate over the epochs:\n",
    "  * Do the training loop:\n",
    "    * Pass the image batch through the model.\n",
    "    * Compute the loss.\n",
    "    * Backpropagate the loss (this computes the gradients for each parameter).\n",
    "    * Do an optimizer step (this updates the model parameters).\n",
    "    * Clear the computed gradients.\n",
    "  * Do a testing loop.\n",
    "  \n",
    "During this process, several statistics (loss/accuracy for train/test) are computed, printed and written to TensorBoard. The function also supports specifying a learning rate scheduler, which we will use at the end of this exercise."
   ]
  },
  {
   "cell_type": "code",
   "execution_count": 5,
   "metadata": {
    "deletable": false,
    "editable": false,
    "nbgrader": {
     "cell_type": "code",
     "checksum": "86e1a1a7ff3bdd9229b445e5ce63197b",
     "grade": false,
     "grade_id": "cell-7348264e521960a4",
     "locked": true,
     "schema_version": 3,
     "solution": false,
     "task": false
    }
   },
   "outputs": [],
   "source": [
    "def train_classifier(model,\n",
    "                     opt,\n",
    "                     logdir,\n",
    "                     train_data=train_data,\n",
    "                     test_data=test_data,\n",
    "                     batch_size=128,\n",
    "                     n_epochs=50,\n",
    "                     lr_scheduler=None\n",
    "                    ):\n",
    "    \n",
    "    writer = SummaryWriter(f\"{LOG_ROOT}/{logdir}-{time.strftime('%y%m%d_%H%M%S')}\")\n",
    "    layout = {\n",
    "        'Losses': {'losses': ['Multiline', ['loss/train', 'loss/test']]},\n",
    "        'Accuracy': {'accuracy': ['Multiline', ['accuracy/train', 'accuracy/test']]}\n",
    "    }\n",
    "    writer.add_custom_scalars(layout)\n",
    "    \n",
    "    train_loader = DataLoader(train_data, batch_size=batch_size, shuffle=True, num_workers=6)\n",
    "    test_loader = DataLoader(test_data, batch_size=batch_size, shuffle=True, num_workers=6)\n",
    "    \n",
    "    criterion = nn.CrossEntropyLoss()\n",
    "    \n",
    "    start = time.time()\n",
    "    \n",
    "    for epoch in range(n_epochs):\n",
    "        sample_count = 0\n",
    "        loss_sum = 0\n",
    "        correct = 0\n",
    "        n_batches = len(train_loader)\n",
    "        model.train()\n",
    "        for i, (xs, ys) in enumerate(train_loader):\n",
    "            if USE_GPU:\n",
    "                xs = xs.cuda()\n",
    "                ys = ys.cuda()\n",
    "            out = model(xs)\n",
    "            loss = criterion(out, ys)\n",
    "            loss.backward()\n",
    "            opt.step()\n",
    "            opt.zero_grad()\n",
    "            \n",
    "            loss_sum += loss.item() * xs.shape[0]\n",
    "            _, pred = torch.max(out, 1)\n",
    "            correct += (pred == ys).sum().item()\n",
    "            sample_count += xs.shape[0]\n",
    "            print(f'Train epoch {epoch+1}, step {i+1}/{n_batches}', end='    \\r')\n",
    "\n",
    "        train_loss = loss_sum / sample_count\n",
    "        train_accuracy = correct / sample_count\n",
    "        \n",
    "        with torch.no_grad():  # do not store gradients during testing, decreases memory consumption\n",
    "            sample_count = 0\n",
    "            loss_sum = 0\n",
    "            correct = 0\n",
    "            n_batches = len(test_loader)\n",
    "            model.eval()\n",
    "            for i, (xs, ys) in enumerate(test_loader):\n",
    "                if USE_GPU:\n",
    "                    xs = xs.cuda()\n",
    "                    ys = ys.cuda()\n",
    "                out = model(xs)\n",
    "                loss = criterion(out, ys)\n",
    "                loss_sum += loss.item() * xs.shape[0]\n",
    "                _, pred = torch.max(out, 1)\n",
    "                correct += (pred == ys).sum().item()\n",
    "                sample_count += xs.shape[0]\n",
    "                print(f'Test epoch {epoch+1}, step {i+1}/{n_batches}', end='    \\r')\n",
    "                \n",
    "            test_loss = loss_sum / sample_count\n",
    "            test_accuracy = correct / sample_count\n",
    "        \n",
    "        writer.add_scalar('loss/train', train_loss, epoch+1)\n",
    "        writer.add_scalar('accuracy/train', train_accuracy, epoch+1)\n",
    "        writer.add_scalar('loss/test', test_loss, epoch+1)\n",
    "        writer.add_scalar('accuracy/test', test_accuracy, epoch+1)\n",
    "            \n",
    "        if lr_scheduler is not None:\n",
    "            lr_scheduler.step()\n",
    "            writer.add_scalar('lr', opt.param_groups[0]['lr'], epoch+1)\n",
    "            \n",
    "        print(\n",
    "            f'Epoch {epoch+1} | train loss: {train_loss:.3f}, train accuracy: {train_accuracy:.3f}, ' + \\\n",
    "            f'test loss: {test_loss:.3f}, test accuracy: {test_accuracy:.3f}, ' + \\\n",
    "            f'time: {str(datetime.timedelta(seconds=int(time.time()-start)))}'\n",
    "        )"
   ]
  },
  {
   "cell_type": "code",
   "execution_count": 6,
   "metadata": {
    "deletable": false,
    "editable": false,
    "nbgrader": {
     "cell_type": "code",
     "checksum": "9243c0e4085a758104a48565615ac9b1",
     "grade": false,
     "grade_id": "cell-5c34f08b3b61750a",
     "locked": true,
     "schema_version": 3,
     "solution": false,
     "task": false
    }
   },
   "outputs": [
    {
     "name": "stdout",
     "output_type": "stream",
     "text": [
      "Epoch 1 | train loss: 1.875, train accuracy: 0.354, test loss: 1.802, test accuracy: 0.380, time: 0:00:30\n",
      "Epoch 2 | train loss: 1.780, train accuracy: 0.395, test loss: 1.772, test accuracy: 0.393, time: 0:00:56\n",
      "Epoch 3 | train loss: 1.751, train accuracy: 0.407, test loss: 1.751, test accuracy: 0.397, time: 0:01:22\n",
      "Epoch 4 | train loss: 1.732, train accuracy: 0.411, test loss: 1.750, test accuracy: 0.400, time: 0:01:48\n",
      "Epoch 5 | train loss: 1.719, train accuracy: 0.416, test loss: 1.731, test accuracy: 0.405, time: 0:02:14\n",
      "Epoch 6 | train loss: 1.709, train accuracy: 0.420, test loss: 1.726, test accuracy: 0.406, time: 0:02:43\n",
      "Epoch 7 | train loss: 1.701, train accuracy: 0.423, test loss: 1.722, test accuracy: 0.408, time: 0:03:13\n",
      "Epoch 8 | train loss: 1.694, train accuracy: 0.426, test loss: 1.723, test accuracy: 0.407, time: 0:03:42\n",
      "Epoch 9 | train loss: 1.689, train accuracy: 0.427, test loss: 1.716, test accuracy: 0.407, time: 0:04:10\n",
      "Epoch 10 | train loss: 1.684, train accuracy: 0.429, test loss: 1.714, test accuracy: 0.414, time: 0:04:37\n",
      "Epoch 11 | train loss: 1.680, train accuracy: 0.429, test loss: 1.719, test accuracy: 0.408, time: 0:05:06\n",
      "Epoch 12 | train loss: 1.676, train accuracy: 0.433, test loss: 1.713, test accuracy: 0.407, time: 0:05:33\n",
      "Epoch 13 | train loss: 1.672, train accuracy: 0.434, test loss: 1.716, test accuracy: 0.408, time: 0:06:00\n",
      "Epoch 14 | train loss: 1.669, train accuracy: 0.434, test loss: 1.711, test accuracy: 0.412, time: 0:06:34\n",
      "Epoch 15 | train loss: 1.667, train accuracy: 0.435, test loss: 1.709, test accuracy: 0.412, time: 0:07:01\n",
      "Epoch 16 | train loss: 1.664, train accuracy: 0.436, test loss: 1.714, test accuracy: 0.412, time: 0:07:31\n",
      "Epoch 17 | train loss: 1.662, train accuracy: 0.436, test loss: 1.707, test accuracy: 0.415, time: 0:07:59\n",
      "Epoch 18 | train loss: 1.659, train accuracy: 0.439, test loss: 1.710, test accuracy: 0.413, time: 0:08:29\n",
      "Epoch 19 | train loss: 1.658, train accuracy: 0.438, test loss: 1.705, test accuracy: 0.413, time: 0:08:57\n",
      "Epoch 20 | train loss: 1.656, train accuracy: 0.440, test loss: 1.717, test accuracy: 0.411, time: 0:09:28\n",
      "Epoch 21 | train loss: 1.654, train accuracy: 0.440, test loss: 1.712, test accuracy: 0.412, time: 0:10:00\n",
      "Epoch 22 | train loss: 1.652, train accuracy: 0.440, test loss: 1.709, test accuracy: 0.412, time: 0:10:27\n",
      "Epoch 23 | train loss: 1.651, train accuracy: 0.442, test loss: 1.709, test accuracy: 0.413, time: 0:11:00\n",
      "Epoch 24 | train loss: 1.649, train accuracy: 0.442, test loss: 1.715, test accuracy: 0.409, time: 0:11:27\n",
      "Epoch 25 | train loss: 1.648, train accuracy: 0.444, test loss: 1.717, test accuracy: 0.408, time: 0:11:55\n",
      "Epoch 26 | train loss: 1.647, train accuracy: 0.443, test loss: 1.709, test accuracy: 0.412, time: 0:12:27\n",
      "Epoch 27 | train loss: 1.645, train accuracy: 0.443, test loss: 1.709, test accuracy: 0.412, time: 0:12:54\n",
      "Epoch 28 | train loss: 1.643, train accuracy: 0.445, test loss: 1.715, test accuracy: 0.407, time: 0:13:20\n",
      "Epoch 29 | train loss: 1.643, train accuracy: 0.444, test loss: 1.714, test accuracy: 0.410, time: 0:13:49\n",
      "Epoch 30 | train loss: 1.641, train accuracy: 0.443, test loss: 1.714, test accuracy: 0.409, time: 0:14:16\n",
      "Epoch 31 | train loss: 1.640, train accuracy: 0.446, test loss: 1.713, test accuracy: 0.410, time: 0:14:44\n",
      "Epoch 32 | train loss: 1.640, train accuracy: 0.445, test loss: 1.709, test accuracy: 0.413, time: 0:15:11\n",
      "Epoch 33 | train loss: 1.639, train accuracy: 0.446, test loss: 1.711, test accuracy: 0.412, time: 0:15:39\n",
      "Epoch 34 | train loss: 1.637, train accuracy: 0.446, test loss: 1.719, test accuracy: 0.406, time: 0:16:06\n",
      "Epoch 35 | train loss: 1.636, train accuracy: 0.447, test loss: 1.714, test accuracy: 0.409, time: 0:16:31\n",
      "Epoch 36 | train loss: 1.636, train accuracy: 0.447, test loss: 1.715, test accuracy: 0.411, time: 0:16:58\n",
      "Epoch 37 | train loss: 1.634, train accuracy: 0.448, test loss: 1.711, test accuracy: 0.412, time: 0:17:24\n",
      "Epoch 38 | train loss: 1.633, train accuracy: 0.447, test loss: 1.720, test accuracy: 0.406, time: 0:17:50\n",
      "Epoch 39 | train loss: 1.633, train accuracy: 0.448, test loss: 1.713, test accuracy: 0.412, time: 0:18:15\n",
      "Epoch 40 | train loss: 1.632, train accuracy: 0.449, test loss: 1.723, test accuracy: 0.405, time: 0:18:41\n",
      "Epoch 41 | train loss: 1.631, train accuracy: 0.448, test loss: 1.716, test accuracy: 0.410, time: 0:19:09\n",
      "Epoch 42 | train loss: 1.631, train accuracy: 0.448, test loss: 1.713, test accuracy: 0.413, time: 0:19:36\n",
      "Epoch 43 | train loss: 1.629, train accuracy: 0.449, test loss: 1.721, test accuracy: 0.406, time: 0:20:02\n",
      "Epoch 44 | train loss: 1.628, train accuracy: 0.449, test loss: 1.714, test accuracy: 0.408, time: 0:20:31\n",
      "Epoch 45 | train loss: 1.628, train accuracy: 0.448, test loss: 1.722, test accuracy: 0.409, time: 0:21:05\n",
      "Epoch 46 | train loss: 1.627, train accuracy: 0.449, test loss: 1.720, test accuracy: 0.409, time: 0:21:43\n",
      "Epoch 47 | train loss: 1.627, train accuracy: 0.450, test loss: 1.719, test accuracy: 0.408, time: 0:22:15\n",
      "Epoch 48 | train loss: 1.626, train accuracy: 0.451, test loss: 1.716, test accuracy: 0.413, time: 0:22:45\n",
      "Epoch 49 | train loss: 1.625, train accuracy: 0.451, test loss: 1.719, test accuracy: 0.407, time: 0:23:13\n",
      "Epoch 50 | train loss: 1.624, train accuracy: 0.451, test loss: 1.714, test accuracy: 0.413, time: 0:23:39\n"
     ]
    }
   ],
   "source": [
    "softmax_regression = nn.Sequential(\n",
    "    nn.Flatten(),\n",
    "    nn.Linear(in_features=3072, out_features=10)\n",
    ")\n",
    "if USE_GPU:\n",
    "    softmax_regression.cuda()\n",
    "\n",
    "opt = optim.SGD(softmax_regression.parameters(), lr=1e-2)\n",
    "train_classifier(softmax_regression, opt, 'softmax_regression')"
   ]
  },
  {
   "cell_type": "markdown",
   "metadata": {
    "deletable": false,
    "editable": false,
    "nbgrader": {
     "cell_type": "markdown",
     "checksum": "89fdbd0a9d66df917d6bd8900b5a3abb",
     "grade": false,
     "grade_id": "cell-6cc309c333f4c13a",
     "locked": true,
     "schema_version": 3,
     "solution": false,
     "task": false
    }
   },
   "source": [
    "(Jupyter Notebook Tip: you can collapse or hide the output by clicking or double clicking the area directly to the left of the output.)\n",
    "\n",
    "You can check the how the loss and accuracy (= proportion of correctly predicted classes) change over the course of training in TensorBoard. What do you observe?"
   ]
  },
  {
   "cell_type": "markdown",
   "metadata": {
    "deletable": false,
    "nbgrader": {
     "cell_type": "markdown",
     "checksum": "3002df91fe8b11ec0de07b1f11b5c193",
     "grade": true,
     "grade_id": "cell-268ce60b8704b0ab",
     "locked": false,
     "points": 0,
     "schema_version": 3,
     "solution": true,
     "task": false
    }
   },
   "source": [
    "*POINTS: 0*\n",
    "\n",
    "YOUR ANSWER HERE"
   ]
  },
  {
   "cell_type": "markdown",
   "metadata": {
    "deletable": false,
    "editable": false,
    "nbgrader": {
     "cell_type": "markdown",
     "checksum": "276690c0a6d3c5fe97135c605cd2a096",
     "grade": false,
     "grade_id": "cell-ec4a31aa3b860db5",
     "locked": true,
     "schema_version": 3,
     "solution": false,
     "task": false
    }
   },
   "source": [
    "## Adam Optimizer\n",
    "\n",
    "There has been a lot of research on improving on the simple stochastic gradient descent algorithm we used above. One of the most popular variants is called **Adam** (https://arxiv.org/abs/1412.6980, \"adaptive moment estimation\"). Its learning rate usually requires less precise tuning, and something in the range of $(10^{-4},10^{-3})$ often works well in practice. Intuitively, this is because the algorithm automatically adapts the learning rate for each weight depending on the gradients.\n",
    "\n",
    "You can run it as follows. The difference is not large for such a simple model, but it makes a bigger difference for larger networks."
   ]
  },
  {
   "cell_type": "code",
   "execution_count": 8,
   "metadata": {
    "deletable": false,
    "editable": false,
    "nbgrader": {
     "cell_type": "code",
     "checksum": "5a3b87f369822389e015ce63bbe365ce",
     "grade": false,
     "grade_id": "cell-645a91d07f56cfbc",
     "locked": true,
     "schema_version": 3,
     "solution": false,
     "task": false
    }
   },
   "outputs": [
    {
     "name": "stdout",
     "output_type": "stream",
     "text": [
      "Epoch 1 | train loss: 1.859, train accuracy: 0.359, test loss: 1.786, test accuracy: 0.392, time: 0:00:27\n",
      "Epoch 2 | train loss: 1.767, train accuracy: 0.399, test loss: 1.762, test accuracy: 0.388, time: 0:00:54\n",
      "Epoch 3 | train loss: 1.739, train accuracy: 0.409, test loss: 1.743, test accuracy: 0.402, time: 0:01:21\n",
      "Epoch 4 | train loss: 1.723, train accuracy: 0.416, test loss: 1.735, test accuracy: 0.405, time: 0:01:47\n",
      "Epoch 5 | train loss: 1.709, train accuracy: 0.419, test loss: 1.732, test accuracy: 0.402, time: 0:02:13\n",
      "Epoch 6 | train loss: 1.702, train accuracy: 0.423, test loss: 1.723, test accuracy: 0.410, time: 0:02:39\n",
      "Epoch 7 | train loss: 1.693, train accuracy: 0.425, test loss: 1.722, test accuracy: 0.408, time: 0:03:05\n",
      "Epoch 8 | train loss: 1.688, train accuracy: 0.428, test loss: 1.722, test accuracy: 0.408, time: 0:03:31\n",
      "Epoch 9 | train loss: 1.681, train accuracy: 0.430, test loss: 1.715, test accuracy: 0.409, time: 0:03:57\n",
      "Epoch 10 | train loss: 1.676, train accuracy: 0.433, test loss: 1.721, test accuracy: 0.413, time: 0:04:23\n",
      "Epoch 11 | train loss: 1.672, train accuracy: 0.433, test loss: 1.720, test accuracy: 0.406, time: 0:04:49\n",
      "Epoch 12 | train loss: 1.668, train accuracy: 0.434, test loss: 1.713, test accuracy: 0.412, time: 0:05:15\n",
      "Epoch 13 | train loss: 1.664, train accuracy: 0.438, test loss: 1.718, test accuracy: 0.410, time: 0:05:42\n",
      "Epoch 14 | train loss: 1.662, train accuracy: 0.438, test loss: 1.711, test accuracy: 0.411, time: 0:06:08\n",
      "Epoch 15 | train loss: 1.659, train accuracy: 0.438, test loss: 1.730, test accuracy: 0.398, time: 0:06:36\n",
      "Epoch 16 | train loss: 1.657, train accuracy: 0.438, test loss: 1.722, test accuracy: 0.404, time: 0:07:02\n",
      "Epoch 17 | train loss: 1.654, train accuracy: 0.440, test loss: 1.714, test accuracy: 0.412, time: 0:07:28\n",
      "Epoch 18 | train loss: 1.652, train accuracy: 0.442, test loss: 1.713, test accuracy: 0.414, time: 0:07:54\n",
      "Epoch 19 | train loss: 1.651, train accuracy: 0.442, test loss: 1.713, test accuracy: 0.410, time: 0:08:21\n",
      "Epoch 20 | train loss: 1.648, train accuracy: 0.442, test loss: 1.720, test accuracy: 0.410, time: 0:08:46\n",
      "Epoch 21 | train loss: 1.646, train accuracy: 0.441, test loss: 1.714, test accuracy: 0.415, time: 0:09:12\n",
      "Epoch 22 | train loss: 1.645, train accuracy: 0.442, test loss: 1.718, test accuracy: 0.410, time: 0:09:39\n",
      "Epoch 23 | train loss: 1.642, train accuracy: 0.442, test loss: 1.714, test accuracy: 0.408, time: 0:10:06\n",
      "Epoch 24 | train loss: 1.642, train accuracy: 0.442, test loss: 1.722, test accuracy: 0.407, time: 0:10:32\n",
      "Epoch 25 | train loss: 1.639, train accuracy: 0.443, test loss: 1.721, test accuracy: 0.405, time: 0:10:57\n",
      "Epoch 26 | train loss: 1.640, train accuracy: 0.444, test loss: 1.724, test accuracy: 0.408, time: 0:11:23\n",
      "Epoch 27 | train loss: 1.637, train accuracy: 0.446, test loss: 1.723, test accuracy: 0.407, time: 0:11:50\n",
      "Epoch 28 | train loss: 1.636, train accuracy: 0.447, test loss: 1.717, test accuracy: 0.406, time: 0:12:16\n",
      "Epoch 29 | train loss: 1.634, train accuracy: 0.445, test loss: 1.720, test accuracy: 0.406, time: 0:12:44\n",
      "Epoch 30 | train loss: 1.633, train accuracy: 0.445, test loss: 1.724, test accuracy: 0.407, time: 0:13:10\n",
      "Epoch 31 | train loss: 1.633, train accuracy: 0.448, test loss: 1.726, test accuracy: 0.403, time: 0:13:37\n",
      "Epoch 32 | train loss: 1.631, train accuracy: 0.447, test loss: 1.721, test accuracy: 0.409, time: 0:14:01\n",
      "Epoch 33 | train loss: 1.630, train accuracy: 0.449, test loss: 1.722, test accuracy: 0.411, time: 0:14:25\n",
      "Epoch 34 | train loss: 1.629, train accuracy: 0.448, test loss: 1.722, test accuracy: 0.408, time: 0:14:50\n",
      "Epoch 35 | train loss: 1.627, train accuracy: 0.449, test loss: 1.724, test accuracy: 0.404, time: 0:15:19\n",
      "Epoch 36 | train loss: 1.627, train accuracy: 0.449, test loss: 1.722, test accuracy: 0.405, time: 0:15:46\n",
      "Epoch 37 | train loss: 1.626, train accuracy: 0.449, test loss: 1.727, test accuracy: 0.403, time: 0:16:13\n",
      "Epoch 38 | train loss: 1.626, train accuracy: 0.449, test loss: 1.721, test accuracy: 0.410, time: 0:16:38\n",
      "Epoch 39 | train loss: 1.624, train accuracy: 0.451, test loss: 1.729, test accuracy: 0.405, time: 0:17:05\n",
      "Epoch 40 | train loss: 1.624, train accuracy: 0.450, test loss: 1.726, test accuracy: 0.408, time: 0:17:29\n",
      "Epoch 41 | train loss: 1.623, train accuracy: 0.449, test loss: 1.731, test accuracy: 0.402, time: 0:17:52\n",
      "Epoch 42 | train loss: 1.621, train accuracy: 0.452, test loss: 1.732, test accuracy: 0.405, time: 0:18:17\n",
      "Epoch 43 | train loss: 1.622, train accuracy: 0.451, test loss: 1.734, test accuracy: 0.402, time: 0:18:41\n",
      "Epoch 44 | train loss: 1.620, train accuracy: 0.451, test loss: 1.730, test accuracy: 0.404, time: 0:19:05\n",
      "Epoch 45 | train loss: 1.620, train accuracy: 0.451, test loss: 1.729, test accuracy: 0.407, time: 0:19:29\n",
      "Epoch 46 | train loss: 1.619, train accuracy: 0.453, test loss: 1.728, test accuracy: 0.410, time: 0:19:53\n",
      "Epoch 47 | train loss: 1.619, train accuracy: 0.452, test loss: 1.735, test accuracy: 0.401, time: 0:20:17\n",
      "Epoch 48 | train loss: 1.618, train accuracy: 0.454, test loss: 1.729, test accuracy: 0.409, time: 0:20:40\n",
      "Epoch 49 | train loss: 1.616, train accuracy: 0.453, test loss: 1.730, test accuracy: 0.402, time: 0:21:05\n",
      "Epoch 50 | train loss: 1.617, train accuracy: 0.452, test loss: 1.728, test accuracy: 0.408, time: 0:21:29\n"
     ]
    }
   ],
   "source": [
    "softmax_regression_adam = nn.Sequential(\n",
    "    nn.Flatten(),\n",
    "    nn.Linear(in_features=3072, out_features=10)\n",
    ")\n",
    "if USE_GPU:\n",
    "    softmax_regression_adam.cuda()\n",
    "    \n",
    "opt = optim.Adam(softmax_regression_adam.parameters(), lr=2e-4)\n",
    "train_classifier(softmax_regression_adam, opt, 'softmax_regression_adam')"
   ]
  },
  {
   "cell_type": "markdown",
   "metadata": {
    "deletable": false,
    "editable": false,
    "nbgrader": {
     "cell_type": "markdown",
     "checksum": "fed1f04ef3bda8ba546d6b0333cd5e9a",
     "grade": false,
     "grade_id": "cell-f97936a20e0833a4",
     "locked": true,
     "schema_version": 3,
     "solution": false,
     "task": false
    }
   },
   "source": [
    "## Interpreting the Learned Weights\n",
    "\n",
    "Multiplication by the weights $W$ can be interpreted as computing responses to correlation templates per image class.\n",
    "\n",
    "That means, we can reshape the weight array $W$ to a obtain \"template images\".\n",
    "\n",
    "Perform this reshaping to visualize the resulting templates."
   ]
  },
  {
   "cell_type": "code",
   "execution_count": 16,
   "metadata": {
    "deletable": false,
    "nbgrader": {
     "cell_type": "code",
     "checksum": "aeb608dec5afffe0c72f6fb024c1cbf2",
     "grade": true,
     "grade_id": "cell-6b90988a89171165",
     "locked": false,
     "points": 2,
     "schema_version": 3,
     "solution": true,
     "task": false
    }
   },
   "outputs": [
    {
     "name": "stdout",
     "output_type": "stream",
     "text": [
      "torch.Size([10, 3072])\n"
     ]
    },
    {
     "data": {
      "image/png": "[encoded data removed]",
      "text/plain": [
       "<Figure size 720x288 with 10 Axes>"
      ]
     },
     "metadata": {
      "needs_background": "light"
     },
     "output_type": "display_data"
    }
   ],
   "source": [
    "# POINTS: 2\n",
    "\n",
    "W = softmax_regression[1].weight.data\n",
    "\n",
    "print(W.shape)\n",
    "# Use W to create the `templates` variable with dimensions [10 (class count), 3 (rgb), height, width]\n",
    "# YOUR CODE HERE\n",
    "templates = torch.reshape(W,(10,3,32,32))\n",
    "#raise NotImplementedError()\n",
    "\n",
    "# We normalize the templates for visualization\n",
    "mini = templates.min()\n",
    "maxi = templates.max()\n",
    "rescaled_templates = (templates - mini) / (maxi - mini)\n",
    "plot_multiple(rescaled_templates.cpu(), labels, max_columns=5)"
   ]
  },
  {
   "cell_type": "markdown",
   "metadata": {
    "deletable": false,
    "editable": false,
    "nbgrader": {
     "cell_type": "markdown",
     "checksum": "6e83938015417f67a724ea13175c0b97",
     "grade": false,
     "grade_id": "cell-a48193761ec01321",
     "locked": true,
     "schema_version": 3,
     "solution": false,
     "task": false
    }
   },
   "source": [
    "Do they look as you would expect?"
   ]
  },
  {
   "cell_type": "markdown",
   "metadata": {
    "deletable": false,
    "nbgrader": {
     "cell_type": "markdown",
     "checksum": "d7af613881542e9a8f107883548d42d4",
     "grade": true,
     "grade_id": "cell-82b5467968214e70",
     "locked": false,
     "points": 0,
     "schema_version": 3,
     "solution": true,
     "task": false
    }
   },
   "source": [
    "*POINTS: 0*\n",
    "\n",
    "YOUR ANSWER HERE"
   ]
  },
  {
   "cell_type": "markdown",
   "metadata": {
    "deletable": false,
    "editable": false,
    "nbgrader": {
     "cell_type": "markdown",
     "checksum": "08ff8c8811f820077e3eb2f50eb5b483",
     "grade": false,
     "grade_id": "cell-53dcad4765f2ab5b",
     "locked": true,
     "schema_version": 3,
     "solution": false,
     "task": false
    }
   },
   "source": [
    "## Multi-Layer Perceptron\n",
    "\n",
    "Softmax regression has a big limitation: the decision surface between any two classes (i.e. the part of the input space where the classification decision changes from one class to another) is a simple hyperplane (\"flat\").\n",
    "\n",
    "The **multi-layer perceptron** (MLP) is a neural network model with additional layer(s) between the input and the logits (so-called hidden layers), with nonlinear activation functions. Why are activation functions needed?\n",
    "\n",
    "Before the current generation of neural networks, the **hyperbolic tangent** (tanh) function used to be the preferred activation function in the hidden layers of MLPs. It is sigmoid shaped and has a range of $(-1,1)$. We can create such a network in PyTorch as follows."
   ]
  },
  {
   "cell_type": "code",
   "execution_count": 17,
   "metadata": {
    "deletable": false,
    "editable": false,
    "nbgrader": {
     "cell_type": "code",
     "checksum": "5f93d0513ee124c5efa20791409a1570",
     "grade": false,
     "grade_id": "cell-1d3f759cb639c7c8",
     "locked": true,
     "schema_version": 3,
     "solution": false,
     "task": false
    }
   },
   "outputs": [
    {
     "name": "stdout",
     "output_type": "stream",
     "text": [
      "Epoch 1 | train loss: 1.779, train accuracy: 0.388, test loss: 1.696, test accuracy: 0.416, time: 0:00:23\n",
      "Epoch 2 | train loss: 1.642, train accuracy: 0.439, test loss: 1.620, test accuracy: 0.445, time: 0:00:46\n",
      "Epoch 3 | train loss: 1.562, train accuracy: 0.469, test loss: 1.579, test accuracy: 0.462, time: 0:01:11\n",
      "Epoch 4 | train loss: 1.498, train accuracy: 0.490, test loss: 1.549, test accuracy: 0.474, time: 0:01:36\n",
      "Epoch 5 | train loss: 1.441, train accuracy: 0.513, test loss: 1.523, test accuracy: 0.478, time: 0:01:59\n",
      "Epoch 6 | train loss: 1.386, train accuracy: 0.533, test loss: 1.506, test accuracy: 0.483, time: 0:02:25\n",
      "Epoch 7 | train loss: 1.336, train accuracy: 0.551, test loss: 1.482, test accuracy: 0.492, time: 0:02:52\n",
      "Epoch 8 | train loss: 1.285, train accuracy: 0.569, test loss: 1.477, test accuracy: 0.490, time: 0:03:17\n",
      "Epoch 9 | train loss: 1.240, train accuracy: 0.586, test loss: 1.462, test accuracy: 0.498, time: 0:03:44\n",
      "Epoch 10 | train loss: 1.193, train accuracy: 0.605, test loss: 1.467, test accuracy: 0.495, time: 0:04:09\n",
      "Epoch 11 | train loss: 1.147, train accuracy: 0.623, test loss: 1.458, test accuracy: 0.501, time: 0:04:34\n",
      "Epoch 12 | train loss: 1.102, train accuracy: 0.642, test loss: 1.446, test accuracy: 0.507, time: 0:05:00\n",
      "Epoch 13 | train loss: 1.057, train accuracy: 0.660, test loss: 1.437, test accuracy: 0.506, time: 0:05:25\n",
      "Epoch 14 | train loss: 1.015, train accuracy: 0.672, test loss: 1.444, test accuracy: 0.507, time: 0:05:51\n",
      "Epoch 15 | train loss: 0.973, train accuracy: 0.690, test loss: 1.447, test accuracy: 0.508, time: 0:06:19\n",
      "Epoch 16 | train loss: 0.932, train accuracy: 0.707, test loss: 1.464, test accuracy: 0.502, time: 0:06:45\n",
      "Epoch 17 | train loss: 0.892, train accuracy: 0.721, test loss: 1.477, test accuracy: 0.504, time: 0:07:10\n",
      "Epoch 18 | train loss: 0.854, train accuracy: 0.737, test loss: 1.455, test accuracy: 0.508, time: 0:07:36\n",
      "Epoch 19 | train loss: 0.817, train accuracy: 0.751, test loss: 1.471, test accuracy: 0.508, time: 0:08:02\n",
      "Epoch 20 | train loss: 0.779, train accuracy: 0.766, test loss: 1.477, test accuracy: 0.506, time: 0:08:28\n",
      "Epoch 21 | train loss: 0.744, train accuracy: 0.778, test loss: 1.489, test accuracy: 0.507, time: 0:08:53\n",
      "Epoch 22 | train loss: 0.710, train accuracy: 0.791, test loss: 1.498, test accuracy: 0.508, time: 0:09:21\n",
      "Epoch 23 | train loss: 0.674, train accuracy: 0.806, test loss: 1.507, test accuracy: 0.507, time: 0:09:47\n",
      "Epoch 24 | train loss: 0.645, train accuracy: 0.817, test loss: 1.511, test accuracy: 0.510, time: 0:10:12\n",
      "Epoch 25 | train loss: 0.613, train accuracy: 0.828, test loss: 1.540, test accuracy: 0.499, time: 0:10:38\n",
      "Epoch 26 | train loss: 0.584, train accuracy: 0.839, test loss: 1.548, test accuracy: 0.505, time: 0:11:03\n",
      "Epoch 27 | train loss: 0.553, train accuracy: 0.852, test loss: 1.561, test accuracy: 0.502, time: 0:11:28\n",
      "Epoch 28 | train loss: 0.527, train accuracy: 0.861, test loss: 1.575, test accuracy: 0.498, time: 0:11:53\n",
      "Epoch 29 | train loss: 0.498, train accuracy: 0.872, test loss: 1.599, test accuracy: 0.497, time: 0:12:18\n",
      "Epoch 30 | train loss: 0.473, train accuracy: 0.881, test loss: 1.593, test accuracy: 0.500, time: 0:12:44\n",
      "Epoch 31 | train loss: 0.449, train accuracy: 0.889, test loss: 1.616, test accuracy: 0.498, time: 0:13:10\n",
      "Epoch 32 | train loss: 0.425, train accuracy: 0.896, test loss: 1.624, test accuracy: 0.503, time: 0:13:36\n",
      "Epoch 33 | train loss: 0.404, train accuracy: 0.904, test loss: 1.651, test accuracy: 0.492, time: 0:14:00\n",
      "Epoch 34 | train loss: 0.382, train accuracy: 0.912, test loss: 1.671, test accuracy: 0.494, time: 0:14:24\n",
      "Epoch 35 | train loss: 0.359, train accuracy: 0.918, test loss: 1.695, test accuracy: 0.499, time: 0:14:48\n",
      "Epoch 36 | train loss: 0.339, train accuracy: 0.926, test loss: 1.702, test accuracy: 0.497, time: 0:15:12\n",
      "Epoch 37 | train loss: 0.318, train accuracy: 0.933, test loss: 1.730, test accuracy: 0.492, time: 0:15:35\n",
      "Epoch 38 | train loss: 0.303, train accuracy: 0.937, test loss: 1.756, test accuracy: 0.498, time: 0:15:59\n",
      "Epoch 39 | train loss: 0.286, train accuracy: 0.943, test loss: 1.766, test accuracy: 0.494, time: 0:16:22\n",
      "Epoch 40 | train loss: 0.268, train accuracy: 0.948, test loss: 1.788, test accuracy: 0.495, time: 0:16:47\n",
      "Epoch 41 | train loss: 0.252, train accuracy: 0.953, test loss: 1.802, test accuracy: 0.490, time: 0:17:11\n",
      "Epoch 42 | train loss: 0.238, train accuracy: 0.956, test loss: 1.826, test accuracy: 0.490, time: 0:17:41\n",
      "Epoch 43 | train loss: 0.224, train accuracy: 0.961, test loss: 1.843, test accuracy: 0.490, time: 0:18:07\n",
      "Epoch 44 | train loss: 0.213, train accuracy: 0.963, test loss: 1.876, test accuracy: 0.490, time: 0:18:34\n",
      "Epoch 45 | train loss: 0.197, train accuracy: 0.967, test loss: 1.880, test accuracy: 0.490, time: 0:19:01\n",
      "Epoch 46 | train loss: 0.184, train accuracy: 0.971, test loss: 1.897, test accuracy: 0.491, time: 0:19:28\n",
      "Epoch 47 | train loss: 0.175, train accuracy: 0.973, test loss: 1.944, test accuracy: 0.488, time: 0:19:53\n",
      "Epoch 48 | train loss: 0.166, train accuracy: 0.975, test loss: 1.969, test accuracy: 0.486, time: 0:20:20\n",
      "Epoch 49 | train loss: 0.152, train accuracy: 0.979, test loss: 1.978, test accuracy: 0.481, time: 0:20:47\n",
      "Epoch 50 | train loss: 0.143, train accuracy: 0.981, test loss: 1.992, test accuracy: 0.485, time: 0:21:12\n"
     ]
    }
   ],
   "source": [
    "tanh_mlp = nn.Sequential(\n",
    "    nn.Flatten(),\n",
    "    nn.Linear(in_features=3072, out_features=512),\n",
    "    nn.Tanh(),\n",
    "    nn.Linear(in_features=512, out_features=10)\n",
    ")\n",
    "if USE_GPU:\n",
    "    tanh_mlp.cuda()\n",
    "    \n",
    "opt = optim.Adam(tanh_mlp.parameters(), lr=2e-4)\n",
    "train_classifier(tanh_mlp, opt, f'tanh_mlp')"
   ]
  },
  {
   "cell_type": "markdown",
   "metadata": {
    "deletable": false,
    "editable": false,
    "nbgrader": {
     "cell_type": "markdown",
     "checksum": "a85465b2a9af5fe2cd9965924f11de6f",
     "grade": false,
     "grade_id": "cell-2b139794e1c54e5e",
     "locked": true,
     "schema_version": 3,
     "solution": false,
     "task": false
    }
   },
   "source": [
    "Does it obtain better results than the linear model? What do you observe if you compare the accuracy curves for training and testing?\n",
    "\n",
    "How and why does the behaviour of the test loss differ from the test accuracy?"
   ]
  },
  {
   "cell_type": "markdown",
   "metadata": {
    "deletable": false,
    "nbgrader": {
     "cell_type": "markdown",
     "checksum": "295ddd6574614bb7c5f16135081ce8c6",
     "grade": true,
     "grade_id": "cell-9a16b9da4520bc8b",
     "locked": false,
     "points": 0,
     "schema_version": 3,
     "solution": true,
     "task": false
    }
   },
   "source": [
    "*POINTS: 0*\n",
    "\n",
    "YOUR ANSWER HERE"
   ]
  },
  {
   "cell_type": "markdown",
   "metadata": {
    "deletable": false,
    "editable": false,
    "nbgrader": {
     "cell_type": "markdown",
     "checksum": "7f11654e0fbff346a19a4a529a4ced25",
     "grade": false,
     "grade_id": "cell-16d91ae3e3806a98",
     "locked": true,
     "schema_version": 3,
     "solution": false,
     "task": false
    }
   },
   "source": [
    "## Data Augmentation\n",
    "\n",
    "To avoid this effect, we can use data augmentation. By applying small changes to the training samples, we can virtually increase the size of the dataset such that the model cannot memorize training samples as easily.\n",
    "\n",
    "Have a look at the `torchvision.transforms` module of torchvision and add the following augmentations below:\n",
    "\n",
    "* shift the images randomly horizontally and vertically by up to 10% of the height and width\n",
    "* scale the images randomly between 90% and 110%\n",
    "* mirror the images such that the right and the left side are swapped in 50% of the cases"
   ]
  },
  {
   "cell_type": "code",
   "execution_count": 20,
   "metadata": {
    "deletable": false,
    "nbgrader": {
     "cell_type": "code",
     "checksum": "815c9341c166bbee3a91566fa786701c",
     "grade": true,
     "grade_id": "cell-4158553d60385578",
     "locked": false,
     "points": 4,
     "schema_version": 3,
     "solution": true,
     "task": false
    }
   },
   "outputs": [
    {
     "name": "stdout",
     "output_type": "stream",
     "text": [
      "Files already downloaded and verified\n"
     ]
    },
    {
     "data": {
      "image/png": "[encoded data removed]",
      "text/plain": [
       "<Figure size 864x576 with 24 Axes>"
      ]
     },
     "metadata": {
      "needs_background": "light"
     },
     "output_type": "display_data"
    }
   ],
   "source": [
    "# POINTS: 4\n",
    "\n",
    "augment_transform = transforms.Compose([\n",
    "    # YOUR CODE HERE\n",
    "    transforms.RandomAffine(degrees=(0,0),translate=(0.1, 0.1),scale=(0.9, 1.10)),\n",
    "    transforms.RandomHorizontalFlip(p=0.5)\n",
    "    #raise NotImplementedError()\n",
    "])\n",
    "augmented_train_data = CIFAR10(root='cifar10/train/', train=True, download=True,\n",
    "                               transform=transforms.Compose([augment_transform, normalize_transform]))\n",
    "visualize_dataset(augmented_train_data)"
   ]
  },
  {
   "cell_type": "code",
   "execution_count": 21,
   "metadata": {
    "deletable": false,
    "editable": false,
    "nbgrader": {
     "cell_type": "code",
     "checksum": "af7dfb228ccff015fbd8ef65fcc9c70f",
     "grade": false,
     "grade_id": "cell-17fa5a99f79769c6",
     "locked": true,
     "schema_version": 3,
     "solution": false,
     "task": false
    }
   },
   "outputs": [
    {
     "name": "stdout",
     "output_type": "stream",
     "text": [
      "Epoch 1 | train loss: 1.879, train accuracy: 0.333, test loss: 1.779, test accuracy: 0.391, time: 0:00:24\n",
      "Epoch 2 | train loss: 1.748, train accuracy: 0.384, test loss: 1.728, test accuracy: 0.397, time: 0:00:51\n",
      "Epoch 3 | train loss: 1.676, train accuracy: 0.409, test loss: 1.698, test accuracy: 0.414, time: 0:01:19\n",
      "Epoch 4 | train loss: 1.632, train accuracy: 0.423, test loss: 1.686, test accuracy: 0.417, time: 0:01:46\n",
      "Epoch 5 | train loss: 1.598, train accuracy: 0.436, test loss: 1.672, test accuracy: 0.421, time: 0:02:15\n",
      "Epoch 6 | train loss: 1.567, train accuracy: 0.448, test loss: 1.648, test accuracy: 0.427, time: 0:02:41\n",
      "Epoch 7 | train loss: 1.537, train accuracy: 0.458, test loss: 1.621, test accuracy: 0.438, time: 0:03:07\n",
      "Epoch 8 | train loss: 1.517, train accuracy: 0.465, test loss: 1.618, test accuracy: 0.438, time: 0:03:33\n",
      "Epoch 9 | train loss: 1.498, train accuracy: 0.471, test loss: 1.604, test accuracy: 0.444, time: 0:03:58\n",
      "Epoch 10 | train loss: 1.475, train accuracy: 0.480, test loss: 1.599, test accuracy: 0.446, time: 0:04:23\n",
      "Epoch 11 | train loss: 1.466, train accuracy: 0.481, test loss: 1.588, test accuracy: 0.450, time: 0:04:49\n",
      "Epoch 12 | train loss: 1.454, train accuracy: 0.488, test loss: 1.580, test accuracy: 0.452, time: 0:05:14\n",
      "Epoch 13 | train loss: 1.437, train accuracy: 0.492, test loss: 1.560, test accuracy: 0.461, time: 0:05:42\n",
      "Epoch 14 | train loss: 1.429, train accuracy: 0.495, test loss: 1.555, test accuracy: 0.459, time: 0:06:08\n",
      "Epoch 15 | train loss: 1.416, train accuracy: 0.499, test loss: 1.545, test accuracy: 0.464, time: 0:06:34\n",
      "Epoch 16 | train loss: 1.408, train accuracy: 0.504, test loss: 1.557, test accuracy: 0.463, time: 0:06:59\n",
      "Epoch 17 | train loss: 1.403, train accuracy: 0.506, test loss: 1.541, test accuracy: 0.467, time: 0:07:25\n",
      "Epoch 18 | train loss: 1.396, train accuracy: 0.506, test loss: 1.518, test accuracy: 0.475, time: 0:07:51\n",
      "Epoch 19 | train loss: 1.383, train accuracy: 0.510, test loss: 1.508, test accuracy: 0.479, time: 0:08:17\n",
      "Epoch 20 | train loss: 1.376, train accuracy: 0.514, test loss: 1.516, test accuracy: 0.483, time: 0:08:44\n",
      "Epoch 21 | train loss: 1.372, train accuracy: 0.513, test loss: 1.503, test accuracy: 0.483, time: 0:09:10\n",
      "Epoch 22 | train loss: 1.367, train accuracy: 0.516, test loss: 1.513, test accuracy: 0.478, time: 0:09:35\n",
      "Epoch 23 | train loss: 1.360, train accuracy: 0.519, test loss: 1.508, test accuracy: 0.480, time: 0:10:01\n",
      "Epoch 24 | train loss: 1.354, train accuracy: 0.520, test loss: 1.489, test accuracy: 0.486, time: 0:10:26\n",
      "Epoch 25 | train loss: 1.347, train accuracy: 0.524, test loss: 1.487, test accuracy: 0.483, time: 0:10:52\n",
      "Epoch 26 | train loss: 1.343, train accuracy: 0.525, test loss: 1.482, test accuracy: 0.485, time: 0:11:18\n",
      "Epoch 27 | train loss: 1.336, train accuracy: 0.527, test loss: 1.471, test accuracy: 0.491, time: 0:11:44\n",
      "Epoch 28 | train loss: 1.333, train accuracy: 0.529, test loss: 1.470, test accuracy: 0.488, time: 0:12:18\n",
      "Epoch 29 | train loss: 1.328, train accuracy: 0.531, test loss: 1.463, test accuracy: 0.490, time: 0:12:53\n",
      "Epoch 30 | train loss: 1.324, train accuracy: 0.532, test loss: 1.463, test accuracy: 0.497, time: 0:13:32\n",
      "Epoch 31 | train loss: 1.321, train accuracy: 0.532, test loss: 1.456, test accuracy: 0.500, time: 0:14:04\n",
      "Epoch 32 | train loss: 1.311, train accuracy: 0.536, test loss: 1.446, test accuracy: 0.503, time: 0:14:31\n",
      "Epoch 33 | train loss: 1.307, train accuracy: 0.538, test loss: 1.456, test accuracy: 0.499, time: 0:14:57\n",
      "Epoch 34 | train loss: 1.308, train accuracy: 0.536, test loss: 1.453, test accuracy: 0.496, time: 0:15:24\n",
      "Epoch 35 | train loss: 1.306, train accuracy: 0.538, test loss: 1.444, test accuracy: 0.505, time: 0:15:50\n",
      "Epoch 36 | train loss: 1.305, train accuracy: 0.539, test loss: 1.437, test accuracy: 0.507, time: 0:16:15\n",
      "Epoch 37 | train loss: 1.297, train accuracy: 0.541, test loss: 1.452, test accuracy: 0.496, time: 0:16:41\n",
      "Epoch 38 | train loss: 1.291, train accuracy: 0.544, test loss: 1.438, test accuracy: 0.506, time: 0:17:07\n",
      "Epoch 39 | train loss: 1.289, train accuracy: 0.543, test loss: 1.444, test accuracy: 0.503, time: 0:17:35\n",
      "Epoch 40 | train loss: 1.289, train accuracy: 0.541, test loss: 1.432, test accuracy: 0.504, time: 0:18:00\n",
      "Epoch 41 | train loss: 1.281, train accuracy: 0.547, test loss: 1.430, test accuracy: 0.509, time: 0:18:26\n",
      "Epoch 42 | train loss: 1.280, train accuracy: 0.547, test loss: 1.419, test accuracy: 0.512, time: 0:18:52\n",
      "Epoch 43 | train loss: 1.273, train accuracy: 0.548, test loss: 1.423, test accuracy: 0.511, time: 0:19:17\n",
      "Epoch 44 | train loss: 1.279, train accuracy: 0.549, test loss: 1.428, test accuracy: 0.511, time: 0:19:42\n",
      "Epoch 45 | train loss: 1.270, train accuracy: 0.550, test loss: 1.408, test accuracy: 0.512, time: 0:20:07\n",
      "Epoch 46 | train loss: 1.265, train accuracy: 0.550, test loss: 1.403, test accuracy: 0.522, time: 0:20:33\n",
      "Epoch 47 | train loss: 1.269, train accuracy: 0.554, test loss: 1.419, test accuracy: 0.516, time: 0:20:58\n",
      "Epoch 48 | train loss: 1.260, train accuracy: 0.554, test loss: 1.407, test accuracy: 0.515, time: 0:21:24\n",
      "Epoch 49 | train loss: 1.261, train accuracy: 0.554, test loss: 1.425, test accuracy: 0.512, time: 0:21:51\n",
      "Epoch 50 | train loss: 1.257, train accuracy: 0.554, test loss: 1.409, test accuracy: 0.515, time: 0:22:17\n"
     ]
    }
   ],
   "source": [
    "tanh_mlp = nn.Sequential(\n",
    "    nn.Flatten(),\n",
    "    nn.Linear(in_features=3072, out_features=512),\n",
    "    nn.Tanh(),\n",
    "    nn.Linear(in_features=512, out_features=10)\n",
    ")\n",
    "if USE_GPU:\n",
    "    tanh_mlp.cuda()\n",
    "    \n",
    "opt = optim.Adam(tanh_mlp.parameters(), lr=2e-4)\n",
    "train_classifier(tanh_mlp, opt, f'tanh_mlp_augmented', train_data=augmented_train_data)"
   ]
  },
  {
   "cell_type": "markdown",
   "metadata": {
    "deletable": false,
    "editable": false,
    "nbgrader": {
     "cell_type": "markdown",
     "checksum": "82d2b5e66c27b52dc8dfde3b09a28e37",
     "grade": false,
     "grade_id": "cell-fa5e3df235209477",
     "locked": true,
     "schema_version": 3,
     "solution": false,
     "task": false
    }
   },
   "source": [
    "What do you observe if you train the same model on the augmented data?"
   ]
  },
  {
   "cell_type": "markdown",
   "metadata": {
    "deletable": false,
    "nbgrader": {
     "cell_type": "markdown",
     "checksum": "07f3bbbe9a7b29b26ebca41b3c381634",
     "grade": true,
     "grade_id": "cell-d1b52278a5587b93",
     "locked": false,
     "points": 0,
     "schema_version": 3,
     "solution": true,
     "task": false
    }
   },
   "source": [
    "*POINTS: 0*\n",
    "\n",
    "YOUR ANSWER HERE"
   ]
  },
  {
   "cell_type": "markdown",
   "metadata": {
    "deletable": false,
    "editable": false,
    "nbgrader": {
     "cell_type": "markdown",
     "checksum": "4168ee52c510e7246b5d5ceb3065af3a",
     "grade": false,
     "grade_id": "cell-52198a15ed79a2ee",
     "locked": true,
     "schema_version": 3,
     "solution": false,
     "task": false
    }
   },
   "source": [
    "## ReLU\n",
    "\n",
    "The ReLU activation function has become more popular in recent years, especially for deeper nets. Create and train an MLP with the same architecture as above which uses ReLU instead of tanh as the activation."
   ]
  },
  {
   "cell_type": "code",
   "execution_count": 22,
   "metadata": {
    "deletable": false,
    "nbgrader": {
     "cell_type": "code",
     "checksum": "c68d9faf1a2d044e7fa06be03870e807",
     "grade": true,
     "grade_id": "cell-209c6c6b658fdc85",
     "locked": false,
     "points": 2,
     "schema_version": 3,
     "solution": true,
     "task": false
    }
   },
   "outputs": [
    {
     "name": "stdout",
     "output_type": "stream",
     "text": [
      "Epoch 1 | train loss: 1.788, train accuracy: 0.364, test loss: 1.587, test accuracy: 0.446, time: 0:00:26\n",
      "Epoch 2 | train loss: 1.630, train accuracy: 0.425, test loss: 1.521, test accuracy: 0.466, time: 0:00:51\n",
      "Epoch 3 | train loss: 1.567, train accuracy: 0.446, test loss: 1.464, test accuracy: 0.487, time: 0:01:18\n",
      "Epoch 4 | train loss: 1.527, train accuracy: 0.460, test loss: 1.471, test accuracy: 0.481, time: 0:01:46\n",
      "Epoch 5 | train loss: 1.495, train accuracy: 0.473, test loss: 1.421, test accuracy: 0.503, time: 0:02:15\n",
      "Epoch 6 | train loss: 1.476, train accuracy: 0.481, test loss: 1.404, test accuracy: 0.508, time: 0:02:44\n",
      "Epoch 7 | train loss: 1.453, train accuracy: 0.489, test loss: 1.386, test accuracy: 0.514, time: 0:03:12\n",
      "Epoch 8 | train loss: 1.437, train accuracy: 0.493, test loss: 1.382, test accuracy: 0.515, time: 0:03:40\n",
      "Epoch 9 | train loss: 1.421, train accuracy: 0.499, test loss: 1.359, test accuracy: 0.523, time: 0:04:10\n",
      "Epoch 10 | train loss: 1.412, train accuracy: 0.504, test loss: 1.360, test accuracy: 0.528, time: 0:04:37\n",
      "Epoch 11 | train loss: 1.396, train accuracy: 0.508, test loss: 1.365, test accuracy: 0.520, time: 0:05:05\n",
      "Epoch 12 | train loss: 1.390, train accuracy: 0.511, test loss: 1.362, test accuracy: 0.520, time: 0:05:34\n",
      "Epoch 13 | train loss: 1.378, train accuracy: 0.515, test loss: 1.376, test accuracy: 0.512, time: 0:06:03\n",
      "Epoch 14 | train loss: 1.366, train accuracy: 0.520, test loss: 1.327, test accuracy: 0.537, time: 0:06:31\n",
      "Epoch 15 | train loss: 1.355, train accuracy: 0.523, test loss: 1.321, test accuracy: 0.530, time: 0:06:58\n",
      "Epoch 16 | train loss: 1.348, train accuracy: 0.526, test loss: 1.320, test accuracy: 0.541, time: 0:07:26\n",
      "Epoch 17 | train loss: 1.338, train accuracy: 0.529, test loss: 1.324, test accuracy: 0.533, time: 0:07:55\n",
      "Epoch 18 | train loss: 1.335, train accuracy: 0.529, test loss: 1.296, test accuracy: 0.546, time: 0:08:21\n",
      "Epoch 19 | train loss: 1.323, train accuracy: 0.533, test loss: 1.296, test accuracy: 0.548, time: 0:08:50\n",
      "Epoch 20 | train loss: 1.322, train accuracy: 0.535, test loss: 1.290, test accuracy: 0.549, time: 0:09:18\n",
      "Epoch 21 | train loss: 1.314, train accuracy: 0.538, test loss: 1.294, test accuracy: 0.545, time: 0:09:45\n",
      "Epoch 22 | train loss: 1.309, train accuracy: 0.541, test loss: 1.298, test accuracy: 0.543, time: 0:10:13\n",
      "Epoch 23 | train loss: 1.303, train accuracy: 0.542, test loss: 1.297, test accuracy: 0.541, time: 0:10:41\n",
      "Epoch 24 | train loss: 1.301, train accuracy: 0.544, test loss: 1.279, test accuracy: 0.553, time: 0:11:09\n",
      "Epoch 25 | train loss: 1.289, train accuracy: 0.547, test loss: 1.282, test accuracy: 0.553, time: 0:11:39\n",
      "Epoch 26 | train loss: 1.285, train accuracy: 0.547, test loss: 1.271, test accuracy: 0.560, time: 0:12:08\n",
      "Epoch 27 | train loss: 1.279, train accuracy: 0.553, test loss: 1.274, test accuracy: 0.554, time: 0:12:37\n",
      "Epoch 28 | train loss: 1.277, train accuracy: 0.552, test loss: 1.274, test accuracy: 0.555, time: 0:13:07\n",
      "Epoch 29 | train loss: 1.271, train accuracy: 0.554, test loss: 1.264, test accuracy: 0.558, time: 0:13:35\n",
      "Epoch 30 | train loss: 1.266, train accuracy: 0.555, test loss: 1.259, test accuracy: 0.559, time: 0:14:02\n",
      "Epoch 31 | train loss: 1.260, train accuracy: 0.554, test loss: 1.257, test accuracy: 0.561, time: 0:14:29\n",
      "Epoch 32 | train loss: 1.259, train accuracy: 0.556, test loss: 1.255, test accuracy: 0.559, time: 0:14:57\n",
      "Epoch 33 | train loss: 1.256, train accuracy: 0.559, test loss: 1.245, test accuracy: 0.563, time: 0:15:27\n",
      "Epoch 34 | train loss: 1.248, train accuracy: 0.562, test loss: 1.240, test accuracy: 0.564, time: 0:15:55\n",
      "Epoch 35 | train loss: 1.243, train accuracy: 0.563, test loss: 1.247, test accuracy: 0.564, time: 0:16:21\n",
      "Epoch 36 | train loss: 1.242, train accuracy: 0.561, test loss: 1.231, test accuracy: 0.569, time: 0:16:49\n",
      "Epoch 37 | train loss: 1.238, train accuracy: 0.566, test loss: 1.237, test accuracy: 0.566, time: 0:17:15\n",
      "Epoch 38 | train loss: 1.236, train accuracy: 0.564, test loss: 1.233, test accuracy: 0.573, time: 0:17:40\n",
      "Epoch 39 | train loss: 1.237, train accuracy: 0.564, test loss: 1.230, test accuracy: 0.571, time: 0:18:10\n",
      "Epoch 40 | train loss: 1.233, train accuracy: 0.565, test loss: 1.221, test accuracy: 0.574, time: 0:18:41\n",
      "Epoch 41 | train loss: 1.225, train accuracy: 0.569, test loss: 1.222, test accuracy: 0.573, time: 0:19:08\n",
      "Epoch 42 | train loss: 1.225, train accuracy: 0.569, test loss: 1.237, test accuracy: 0.564, time: 0:19:33\n",
      "Epoch 43 | train loss: 1.222, train accuracy: 0.569, test loss: 1.227, test accuracy: 0.572, time: 0:20:00\n",
      "Epoch 44 | train loss: 1.220, train accuracy: 0.574, test loss: 1.211, test accuracy: 0.573, time: 0:20:28\n",
      "Epoch 45 | train loss: 1.211, train accuracy: 0.574, test loss: 1.210, test accuracy: 0.578, time: 0:20:56\n",
      "Epoch 46 | train loss: 1.213, train accuracy: 0.575, test loss: 1.216, test accuracy: 0.578, time: 0:21:21\n",
      "Epoch 47 | train loss: 1.211, train accuracy: 0.574, test loss: 1.204, test accuracy: 0.581, time: 0:21:47\n",
      "Epoch 48 | train loss: 1.208, train accuracy: 0.576, test loss: 1.209, test accuracy: 0.571, time: 0:22:13\n",
      "Epoch 49 | train loss: 1.199, train accuracy: 0.579, test loss: 1.213, test accuracy: 0.581, time: 0:22:39\n",
      "Epoch 50 | train loss: 1.206, train accuracy: 0.579, test loss: 1.204, test accuracy: 0.580, time: 0:23:05\n"
     ]
    }
   ],
   "source": [
    "# POINTS: 2\n",
    "\n",
    "relu_mlp = nn.Sequential(\n",
    "    # YOUR CODE HERE\n",
    "    nn.Flatten(),\n",
    "    nn.Linear(in_features=3072, out_features=512),\n",
    "    nn.ReLU(),\n",
    "    nn.Linear(in_features=512, out_features=10)\n",
    "    #raise NotImplementedError()\n",
    ")\n",
    "if USE_GPU:\n",
    "    relu_mlp.cuda()\n",
    "\n",
    "    \n",
    "opt = optim.Adam(relu_mlp.parameters(), lr=2e-4)\n",
    "train_classifier(relu_mlp, opt, 'relu_mlp', train_data=augmented_train_data)"
   ]
  },
  {
   "cell_type": "markdown",
   "metadata": {
    "deletable": false,
    "editable": false,
    "nbgrader": {
     "cell_type": "markdown",
     "checksum": "629c37c2cc924da566c2f47fc2ca7509",
     "grade": false,
     "grade_id": "cell-b2c3bfe1f9ceab2f",
     "locked": true,
     "schema_version": 3,
     "solution": false,
     "task": false
    }
   },
   "source": [
    "Do the results change? What benefit does ReLU have against tanh?"
   ]
  },
  {
   "cell_type": "markdown",
   "metadata": {
    "deletable": false,
    "nbgrader": {
     "cell_type": "markdown",
     "checksum": "fcb315ede9df6fb36e2478877c483803",
     "grade": true,
     "grade_id": "cell-e96f4ec268fbbe6c",
     "locked": false,
     "points": 0,
     "schema_version": 3,
     "solution": true
    }
   },
   "source": [
    "*POINTS: 0*\n",
    "\n",
    "YOUR ANSWER HERE"
   ]
  },
  {
   "cell_type": "markdown",
   "metadata": {
    "deletable": false,
    "editable": false,
    "nbgrader": {
     "cell_type": "markdown",
     "checksum": "8da556076d1cf40cec74144684278eb0",
     "grade": false,
     "grade_id": "cell-3c893def9eef0d29",
     "locked": true,
     "schema_version": 3,
     "solution": false,
     "task": false
    }
   },
   "source": [
    "## A Simple Convolutional Neural Network\n",
    "\n",
    "The previous models did not explicitly make use of the grid structure of the image pixels. Convolutional neural networks do.\n",
    "\n",
    "Instead of reshaping the input image pixels into one long vector, convolutional layers slide small filters across the input, just as with the convolutional filters we saw earlier in the course. In the earlier parts, we looked at convolution on an image with a single channel in case of grayscale images, or channelwise separate convolutions on RGB images.\n",
    "\n",
    "In CNNs, the multiple input channels of a conv layer are not handled independently, but are linearly combined. This means that the weight array has shape `[out_channels, in_channels, kernel_height, kernel_width]` and we perform a weighted sum along the input channel axis. Another difference is the use of a **bias** vector of shape `[out_channels]`, each components gets added to the corresponding output channel.\n",
    "\n",
    "As you already know, convolution is a linear operator, so it is possible to express any convolutional layer as a fully-connected layer.\n",
    "However, the convolutional layer's weight matrix is sparse (has many zeros) compared to a fully-connected (\"linear\") layer because each output only depends on a small number of inputs, namely, those within a small neigborhood. Further, the weight values are shared between the different pixel locations.\n",
    "\n",
    "This tutorial has some great visualisations and explanations on the details of conv layers: https://arxiv.org/abs/1603.07285."
   ]
  },
  {
   "cell_type": "markdown",
   "metadata": {
    "deletable": false,
    "editable": false,
    "nbgrader": {
     "cell_type": "markdown",
     "checksum": "4eaa7ab3a6ffec239b70a6a4b372c0b1",
     "grade": false,
     "grade_id": "cell-d5bd65e1aa6cf240",
     "locked": true,
     "schema_version": 3,
     "solution": false,
     "task": false
    }
   },
   "source": [
    "Technically, what's called a \"convolutional\" layer is usually implemented as a *cross-correlation* computation. Could there be any advantage in using the actual definition of convolution in these layers?"
   ]
  },
  {
   "cell_type": "markdown",
   "metadata": {
    "deletable": false,
    "nbgrader": {
     "cell_type": "markdown",
     "checksum": "58e275ffa399da240c5d609182a29849",
     "grade": true,
     "grade_id": "cell-9f6f8235182c9277",
     "locked": false,
     "points": 0,
     "schema_version": 3,
     "solution": true
    }
   },
   "source": [
    "*POINTS: 0*\n",
    "\n",
    "YOUR ANSWER HERE"
   ]
  },
  {
   "cell_type": "markdown",
   "metadata": {
    "deletable": false,
    "editable": false,
    "nbgrader": {
     "cell_type": "markdown",
     "checksum": "eca973fcbc3ba58a184233c1304b4b52",
     "grade": false,
     "grade_id": "cell-8861acb4ed9aa147",
     "locked": true,
     "schema_version": 3,
     "solution": false,
     "task": false
    }
   },
   "source": [
    "Train the following simple CNN model. It may take about 30 minutes on a CPU."
   ]
  },
  {
   "cell_type": "code",
   "execution_count": 23,
   "metadata": {
    "deletable": false,
    "editable": false,
    "nbgrader": {
     "cell_type": "code",
     "checksum": "ab5327988589fc187f717c6529f714de",
     "grade": false,
     "grade_id": "cell-d01c8cd05d41bef2",
     "locked": true,
     "schema_version": 3,
     "solution": false,
     "task": false
    }
   },
   "outputs": [
    {
     "name": "stdout",
     "output_type": "stream",
     "text": [
      "Epoch 1 | train loss: 1.535, train accuracy: 0.447, test loss: 1.222, test accuracy: 0.568, time: 0:00:30\n",
      "Epoch 2 | train loss: 1.218, train accuracy: 0.569, test loss: 1.031, test accuracy: 0.639, time: 0:00:56\n",
      "Epoch 3 | train loss: 1.087, train accuracy: 0.618, test loss: 0.944, test accuracy: 0.668, time: 0:01:23\n",
      "Epoch 4 | train loss: 1.018, train accuracy: 0.645, test loss: 0.882, test accuracy: 0.698, time: 0:01:49\n",
      "Epoch 5 | train loss: 0.970, train accuracy: 0.662, test loss: 0.876, test accuracy: 0.699, time: 0:02:15\n",
      "Epoch 6 | train loss: 0.935, train accuracy: 0.674, test loss: 0.840, test accuracy: 0.711, time: 0:02:42\n",
      "Epoch 7 | train loss: 0.905, train accuracy: 0.685, test loss: 0.809, test accuracy: 0.720, time: 0:03:09\n",
      "Epoch 8 | train loss: 0.883, train accuracy: 0.693, test loss: 0.796, test accuracy: 0.722, time: 0:03:38\n",
      "Epoch 9 | train loss: 0.860, train accuracy: 0.702, test loss: 0.792, test accuracy: 0.728, time: 0:04:05\n",
      "Epoch 10 | train loss: 0.842, train accuracy: 0.710, test loss: 0.782, test accuracy: 0.730, time: 0:04:33\n",
      "Epoch 11 | train loss: 0.823, train accuracy: 0.717, test loss: 0.756, test accuracy: 0.734, time: 0:05:01\n",
      "Epoch 12 | train loss: 0.814, train accuracy: 0.718, test loss: 0.742, test accuracy: 0.745, time: 0:05:30\n",
      "Epoch 13 | train loss: 0.803, train accuracy: 0.722, test loss: 0.761, test accuracy: 0.735, time: 0:05:59\n",
      "Epoch 14 | train loss: 0.789, train accuracy: 0.727, test loss: 0.751, test accuracy: 0.744, time: 0:06:28\n",
      "Epoch 15 | train loss: 0.778, train accuracy: 0.732, test loss: 0.732, test accuracy: 0.749, time: 0:07:01\n",
      "Epoch 16 | train loss: 0.775, train accuracy: 0.730, test loss: 0.734, test accuracy: 0.745, time: 0:07:28\n",
      "Epoch 17 | train loss: 0.758, train accuracy: 0.738, test loss: 0.728, test accuracy: 0.751, time: 0:07:57\n",
      "Epoch 18 | train loss: 0.758, train accuracy: 0.738, test loss: 0.724, test accuracy: 0.752, time: 0:08:27\n",
      "Epoch 19 | train loss: 0.744, train accuracy: 0.741, test loss: 0.704, test accuracy: 0.755, time: 0:08:57\n",
      "Epoch 20 | train loss: 0.737, train accuracy: 0.744, test loss: 0.720, test accuracy: 0.752, time: 0:09:26\n",
      "Epoch 21 | train loss: 0.732, train accuracy: 0.747, test loss: 0.725, test accuracy: 0.752, time: 0:09:54\n",
      "Epoch 22 | train loss: 0.724, train accuracy: 0.748, test loss: 0.684, test accuracy: 0.767, time: 0:10:22\n",
      "Epoch 23 | train loss: 0.717, train accuracy: 0.752, test loss: 0.693, test accuracy: 0.759, time: 0:10:49\n",
      "Epoch 24 | train loss: 0.712, train accuracy: 0.755, test loss: 0.673, test accuracy: 0.774, time: 0:11:16\n",
      "Epoch 25 | train loss: 0.707, train accuracy: 0.755, test loss: 0.680, test accuracy: 0.771, time: 0:11:43\n",
      "Epoch 26 | train loss: 0.700, train accuracy: 0.758, test loss: 0.684, test accuracy: 0.771, time: 0:12:10\n",
      "Epoch 27 | train loss: 0.697, train accuracy: 0.759, test loss: 0.657, test accuracy: 0.775, time: 0:12:38\n",
      "Epoch 28 | train loss: 0.689, train accuracy: 0.764, test loss: 0.685, test accuracy: 0.765, time: 0:13:05\n",
      "Epoch 29 | train loss: 0.687, train accuracy: 0.763, test loss: 0.676, test accuracy: 0.769, time: 0:13:35\n",
      "Epoch 30 | train loss: 0.684, train accuracy: 0.764, test loss: 0.678, test accuracy: 0.768, time: 0:14:02\n",
      "Epoch 31 | train loss: 0.675, train accuracy: 0.767, test loss: 0.646, test accuracy: 0.782, time: 0:14:29\n",
      "Epoch 32 | train loss: 0.674, train accuracy: 0.768, test loss: 0.670, test accuracy: 0.772, time: 0:14:56\n",
      "Epoch 33 | train loss: 0.668, train accuracy: 0.770, test loss: 0.656, test accuracy: 0.780, time: 0:15:25\n",
      "Epoch 34 | train loss: 0.665, train accuracy: 0.772, test loss: 0.693, test accuracy: 0.769, time: 0:15:53\n",
      "Epoch 35 | train loss: 0.661, train accuracy: 0.773, test loss: 0.672, test accuracy: 0.780, time: 0:16:20\n",
      "Epoch 36 | train loss: 0.656, train accuracy: 0.773, test loss: 0.663, test accuracy: 0.773, time: 0:16:46\n",
      "Epoch 37 | train loss: 0.653, train accuracy: 0.774, test loss: 0.644, test accuracy: 0.783, time: 0:17:13\n",
      "Epoch 38 | train loss: 0.650, train accuracy: 0.775, test loss: 0.662, test accuracy: 0.775, time: 0:17:39\n",
      "Epoch 39 | train loss: 0.644, train accuracy: 0.779, test loss: 0.640, test accuracy: 0.789, time: 0:18:06\n",
      "Epoch 40 | train loss: 0.644, train accuracy: 0.779, test loss: 0.652, test accuracy: 0.785, time: 0:18:32\n",
      "Epoch 41 | train loss: 0.640, train accuracy: 0.778, test loss: 0.629, test accuracy: 0.790, time: 0:18:59\n",
      "Epoch 42 | train loss: 0.638, train accuracy: 0.778, test loss: 0.635, test accuracy: 0.786, time: 0:19:25\n",
      "Epoch 43 | train loss: 0.634, train accuracy: 0.779, test loss: 0.642, test accuracy: 0.787, time: 0:19:52\n",
      "Epoch 44 | train loss: 0.626, train accuracy: 0.785, test loss: 0.651, test accuracy: 0.779, time: 0:20:19\n",
      "Epoch 45 | train loss: 0.630, train accuracy: 0.783, test loss: 0.664, test accuracy: 0.774, time: 0:20:45\n",
      "Epoch 46 | train loss: 0.626, train accuracy: 0.784, test loss: 0.631, test accuracy: 0.789, time: 0:21:12\n",
      "Epoch 47 | train loss: 0.622, train accuracy: 0.785, test loss: 0.637, test accuracy: 0.786, time: 0:21:39\n",
      "Epoch 48 | train loss: 0.619, train accuracy: 0.786, test loss: 0.625, test accuracy: 0.788, time: 0:22:07\n",
      "Epoch 49 | train loss: 0.614, train accuracy: 0.787, test loss: 0.627, test accuracy: 0.790, time: 0:22:34\n",
      "Epoch 50 | train loss: 0.613, train accuracy: 0.788, test loss: 0.621, test accuracy: 0.791, time: 0:23:02\n"
     ]
    }
   ],
   "source": [
    "cnn = nn.Sequential(\n",
    "    nn.Conv2d(in_channels=3, out_channels=64, kernel_size=3, padding=1),\n",
    "    nn.ReLU(),\n",
    "    nn.MaxPool2d(kernel_size=2, stride=2),\n",
    "    nn.Conv2d(in_channels=64, out_channels=64, kernel_size=3, padding=1),\n",
    "    nn.ReLU(),\n",
    "    nn.MaxPool2d(kernel_size=2, stride=2),\n",
    "    nn.Flatten(),\n",
    "    nn.Linear(in_features=4096, out_features=10)\n",
    ")\n",
    "if USE_GPU:\n",
    "    cnn.cuda()\n",
    "\n",
    "opt = optim.Adam(cnn.parameters(), lr=1e-3)\n",
    "train_classifier(cnn, opt, 'cnn', train_data=augmented_train_data)"
   ]
  },
  {
   "cell_type": "markdown",
   "metadata": {
    "deletable": false,
    "editable": false,
    "nbgrader": {
     "cell_type": "markdown",
     "checksum": "9499e32100d839b47abf3ca34c056e4c",
     "grade": false,
     "grade_id": "cell-ec21497c60752bff",
     "locked": true,
     "schema_version": 3,
     "solution": false,
     "task": false
    }
   },
   "source": [
    "Does it improve the result? Does it run faster than the MLP?"
   ]
  },
  {
   "cell_type": "markdown",
   "metadata": {
    "deletable": false,
    "nbgrader": {
     "cell_type": "markdown",
     "checksum": "5822a2c3f1912ec22098888cf844e24f",
     "grade": true,
     "grade_id": "cell-e6010db8bc2020df",
     "locked": false,
     "points": 0,
     "schema_version": 3,
     "solution": true
    }
   },
   "source": [
    "*POINTS: 0*\n",
    "\n",
    "YOUR ANSWER HERE"
   ]
  },
  {
   "cell_type": "markdown",
   "metadata": {
    "deletable": false,
    "editable": false,
    "nbgrader": {
     "cell_type": "markdown",
     "checksum": "17176673004e05c8844e010631ad793f",
     "grade": false,
     "grade_id": "cell-2ee4f12368d36c69",
     "locked": true,
     "schema_version": 3,
     "solution": false,
     "task": false
    }
   },
   "source": [
    "How many parameters does this model have? How many parameters has the MLP? Show the steps of your computation!"
   ]
  },
  {
   "cell_type": "markdown",
   "metadata": {
    "deletable": false,
    "nbgrader": {
     "cell_type": "markdown",
     "checksum": "516a0d4f0bf00fa1c6dc54d46636ec54",
     "grade": true,
     "grade_id": "cell-599a5093a914d24d",
     "locked": false,
     "points": 0,
     "schema_version": 3,
     "solution": true,
     "task": false
    }
   },
   "source": [
    "*POINTS: 0*\n",
    "\n",
    "YOUR ANSWER HERE"
   ]
  },
  {
   "cell_type": "markdown",
   "metadata": {
    "deletable": false,
    "editable": false,
    "nbgrader": {
     "cell_type": "markdown",
     "checksum": "17fb275a2893b83465467e397305d397",
     "grade": false,
     "grade_id": "cell-ae5c926bd88fcedb",
     "locked": true,
     "schema_version": 3,
     "solution": false,
     "task": false
    }
   },
   "source": [
    "## Implementing the Forward Pass\n",
    "\n",
    "To confirm your understanding of the main CNN components, implement the forward pass of the convolutional, max pooling and dense layers, plus the relu activation function. For simplicity, assume a fixed filter size of 3x3 for the convolution, with stride 1 and use zero padding, such that the spatial size does not change (called 'same' padding). Implement this in `conv3x3_same`. For max pooling assume a fixed 2x2 pooling size and stride 2 in `maxpool2x2`.\n",
    "\n",
    "To check whether your implementation is correct, we can extract the weights from the PyTorch model we trained above, and feed these weights and an test input to your implementation of the forward pass. If your result disagrees with PyTorch, there is probably a bug somewhere!"
   ]
  },
  {
   "cell_type": "code",
   "execution_count": 113,
   "metadata": {
    "deletable": false,
    "nbgrader": {
     "cell_type": "code",
     "checksum": "43bc3ea466742b0614a27f4ba75c8d22",
     "grade": true,
     "grade_id": "cell-e8926ce2153b13ca",
     "locked": false,
     "points": 10,
     "schema_version": 3,
     "solution": true
    }
   },
   "outputs": [
    {
     "name": "stdout",
     "output_type": "stream",
     "text": [
      "Congratulations, you got correct results!\n"
     ]
    }
   ],
   "source": [
    "# POINTS: 10\n",
    "\n",
    "def conv3x3_same(x, weights, biases):\n",
    "    \"\"\"Convolutional layer with filter size 3x3 and 'same' padding.\n",
    "    `x` is a NumPy array of shape [in_channels, height, width]\n",
    "    `weights` has shape [out_channels, in_channels, kernel_height, kernel_width]\n",
    "    `biases` has shape [out_channels]\n",
    "    Return the output of the 3x3 conv (without activation)\n",
    "    \"\"\"\n",
    "    # YOUR CODE HERE\n",
    "    oc,ic, kheight, kwidth = weights.shape \n",
    "    _ , height , width = x.shape\n",
    "    result = np.zeros((oc,height,width))\n",
    "    x_padded = np.pad(x,((0,0), (1,1), (1, 1)), 'constant')\n",
    "    for c in range(0,oc):     \n",
    "        for h in range(0,height):\n",
    "            for w in range(0,width):\n",
    "                result[c,h,w] =  (weights[c]*x_padded[:,h:h+3,w:w+3]).sum() + biases[c]        \n",
    "    #raise NotImplementedError()\n",
    "    return result\n",
    "\n",
    "def maxpool2x2(x):\n",
    "    \"\"\"Max pooling with pool size 2x2 and stride 2.\n",
    "    `x` is a numpy array of shape [in_channels, height, width]\n",
    "    \"\"\"\n",
    "    # YOUR CODE HERE\n",
    "    c,height,width = x.shape\n",
    "    result = np.zeros((c,int(height/2),int(width/2)))\n",
    "    for c in range(0,c):\n",
    "        for h in range(0,height-1,2):\n",
    "            for w in range(0,width-1,2):\n",
    "                offset_x = [1,0,1]\n",
    "                offset_y = [0,1,1]\n",
    "                result[c,int(h/2),int(w/2)] = x[c,h,w] \n",
    "                for oy,ox in zip(offsets_y, offsets_x):\n",
    "                    if x[c,h+oy,w+ox] > result[c,int(h/2),int(w/2)]:\n",
    "                        result[c,int(h/2),int(w/2)] = x[c,h+oy,w+ox]                       \n",
    "    #raise NotImplementedError()\n",
    "    return result\n",
    "\n",
    "def linear(x, weights, biases):\n",
    "    # YOUR CODE HERE\n",
    "    return x @ weights.T + biases\n",
    "    #raise NotImplementedError()\n",
    "    \n",
    "def relu(x):\n",
    "    # YOUR CODE HERE\n",
    "    return np.where(x<0, 0, x)\n",
    "    #raise NotImplementedError()\n",
    "\n",
    "def my_predict_cnn(x, W1, b1, W2, b2, W3, b3):\n",
    "    x = conv3x3_same(x, W1, b1)\n",
    "    x = relu(x)\n",
    "    x = maxpool2x2(x)\n",
    "    x = conv3x3_same(x, W2, b2)\n",
    "    x = relu(x)\n",
    "    x = maxpool2x2(x)\n",
    "    x = x.reshape(-1)\n",
    "    x = linear(x, W3, b3)\n",
    "    return x\n",
    "\n",
    "W1 = cnn[0].weight.data.cpu().numpy()\n",
    "b1 = cnn[0].bias.data.cpu().numpy()\n",
    "W2 = cnn[3].weight.data.cpu().numpy()\n",
    "b2 = cnn[3].bias.data.cpu().numpy()\n",
    "W3 = cnn[7].weight.data.cpu().numpy()\n",
    "b3 = cnn[7].bias.data.cpu().numpy()\n",
    "\n",
    "inp = train_data[0][0]\n",
    "inp_np = inp.numpy()\n",
    "\n",
    "if USE_GPU:\n",
    "    inp = inp.cuda()\n",
    "my_logits = my_predict_cnn(inp_np, W1, b1, W2, b2, W3, b3)\n",
    "pytorch_logits = cnn(inp[np.newaxis])[0]\n",
    "if np.mean((my_logits-pytorch_logits.detach().cpu().numpy())**2) > 1e-5:\n",
    "    print('Something isn\\'t right! PyTorch gives different results than my_predict_cnn!')\n",
    "else:\n",
    "    print('Congratulations, you got correct results!')"
   ]
  },
  {
   "cell_type": "markdown",
   "metadata": {
    "deletable": false,
    "editable": false,
    "nbgrader": {
     "cell_type": "markdown",
     "checksum": "dec1c39a9a1c02b7281de1fd2622c108",
     "grade": false,
     "grade_id": "cell-959a911a2a175121",
     "locked": true,
     "schema_version": 3,
     "solution": false,
     "task": false
    }
   },
   "source": [
    "## Batch Normalization\n",
    "\n",
    "Batch normalization is a modern technique to improve and speed up the training of deep neural networks (BatchNorm, Ioffe & Szegedy ICML'15, https://arxiv.org/abs/1502.03167). Each feature channel is normalized to have zero mean and unit variance across the spatial and mini-batch axes. To compensate for the lost degrees of freedom, extra scaling and bias parameters are introduced and learned. Mathematically, BatchNorm for a spatial feature map (e.g. the output of conv) can be written as:\n",
    "\n",
    "$$\n",
    "\\mu_d = \\mathbb{E}\\{x_{\\cdot \\cdot d}\\}, \\\\\n",
    "\\sigma_d = \\sqrt{\\operatorname{Var}\\{x_{\\cdot \\cdot d}\\}} \\\\\n",
    "z_{ijd} = \\gamma_d \\cdot \\frac{x_{ijd} - \\mu_d}{\\sigma_d} + \\beta_d,\\\\\n",
    "$$\n",
    "\n",
    "with the expectation and variance taken across both the data samples of the batch and the spatial dimensions.\n",
    "\n",
    "The $\\mu_d$ and $\\sigma_d$ values are computed on the actual mini-batch during training, but at test-time they are fixed, so that the prediction of the final system on a given sample does not depend on other samples in the mini-batch. To obtain the fixed values for test-time use, one needs to maintain moving statistics over the activations during training. This can be a bit tricky to implement from scratch, but luckily this is now implemented in all popular frameworks, including PyTorch.\n",
    "\n",
    "When applying BatchNorm, it is not necessary to use biases in the previous convolutional layer. Why? Use the `bias` argument of `nn.Conv2d` accordingly."
   ]
  },
  {
   "cell_type": "markdown",
   "metadata": {
    "deletable": false,
    "nbgrader": {
     "cell_type": "markdown",
     "checksum": "384036a5283192262c7ff77892cec960",
     "grade": true,
     "grade_id": "cell-0178a85974e9358e",
     "locked": false,
     "points": 0,
     "schema_version": 3,
     "solution": true
    }
   },
   "source": [
    "*POINTS: 0*\n",
    "\n",
    "YOUR ANSWER HERE"
   ]
  },
  {
   "cell_type": "markdown",
   "metadata": {
    "deletable": false,
    "editable": false,
    "nbgrader": {
     "cell_type": "markdown",
     "checksum": "2c7d1c4f4b79114e42807242ca306cf7",
     "grade": false,
     "grade_id": "cell-1a1a3ac922ed7e52",
     "locked": true,
     "schema_version": 3,
     "solution": false,
     "task": false
    }
   },
   "source": [
    "Create a modified version of the previous model using batch normalization between each convolution and the corresponding activation."
   ]
  },
  {
   "cell_type": "code",
   "execution_count": 118,
   "metadata": {
    "deletable": false,
    "nbgrader": {
     "cell_type": "code",
     "checksum": "f839f8a1cf077c9064b5b47c62022aa6",
     "grade": true,
     "grade_id": "cell-83b754b10f9a5f09",
     "locked": false,
     "points": 3,
     "schema_version": 3,
     "solution": true
    }
   },
   "outputs": [
    {
     "name": "stdout",
     "output_type": "stream",
     "text": [
      "Epoch 1 | train loss: 1.489, train accuracy: 0.470, test loss: 1.228, test accuracy: 0.569, time: 0:00:28\n",
      "Epoch 2 | train loss: 1.144, train accuracy: 0.598, test loss: 1.016, test accuracy: 0.639, time: 0:00:57\n",
      "Epoch 3 | train loss: 1.041, train accuracy: 0.636, test loss: 1.003, test accuracy: 0.655, time: 0:01:26\n",
      "Epoch 4 | train loss: 0.986, train accuracy: 0.655, test loss: 0.856, test accuracy: 0.702, time: 0:01:56\n",
      "Epoch 5 | train loss: 0.944, train accuracy: 0.674, test loss: 0.852, test accuracy: 0.712, time: 0:02:24\n",
      "Epoch 6 | train loss: 0.912, train accuracy: 0.683, test loss: 0.804, test accuracy: 0.722, time: 0:02:51\n",
      "Epoch 7 | train loss: 0.874, train accuracy: 0.695, test loss: 0.763, test accuracy: 0.740, time: 0:03:17\n",
      "Epoch 8 | train loss: 0.853, train accuracy: 0.704, test loss: 0.793, test accuracy: 0.724, time: 0:03:44\n",
      "Epoch 9 | train loss: 0.837, train accuracy: 0.711, test loss: 0.768, test accuracy: 0.737, time: 0:04:11\n",
      "Epoch 10 | train loss: 0.818, train accuracy: 0.717, test loss: 0.754, test accuracy: 0.741, time: 0:04:39\n",
      "Epoch 11 | train loss: 0.796, train accuracy: 0.726, test loss: 0.726, test accuracy: 0.753, time: 0:05:06\n",
      "Epoch 12 | train loss: 0.782, train accuracy: 0.732, test loss: 0.744, test accuracy: 0.748, time: 0:05:33\n",
      "Epoch 13 | train loss: 0.779, train accuracy: 0.732, test loss: 0.696, test accuracy: 0.762, time: 0:05:59\n",
      "Epoch 14 | train loss: 0.757, train accuracy: 0.740, test loss: 0.755, test accuracy: 0.741, time: 0:06:26\n",
      "Epoch 15 | train loss: 0.745, train accuracy: 0.745, test loss: 0.682, test accuracy: 0.767, time: 0:06:55\n",
      "Epoch 16 | train loss: 0.733, train accuracy: 0.747, test loss: 0.715, test accuracy: 0.754, time: 0:07:22\n",
      "Epoch 17 | train loss: 0.727, train accuracy: 0.749, test loss: 0.679, test accuracy: 0.766, time: 0:07:49\n",
      "Epoch 18 | train loss: 0.718, train accuracy: 0.753, test loss: 0.654, test accuracy: 0.777, time: 0:08:16\n",
      "Epoch 19 | train loss: 0.705, train accuracy: 0.757, test loss: 0.642, test accuracy: 0.779, time: 0:08:43\n",
      "Epoch 20 | train loss: 0.702, train accuracy: 0.757, test loss: 0.636, test accuracy: 0.782, time: 0:09:12\n",
      "Epoch 21 | train loss: 0.685, train accuracy: 0.764, test loss: 0.727, test accuracy: 0.751, time: 0:09:41\n",
      "Epoch 22 | train loss: 0.678, train accuracy: 0.767, test loss: 0.672, test accuracy: 0.769, time: 0:10:08\n",
      "Epoch 23 | train loss: 0.670, train accuracy: 0.769, test loss: 0.651, test accuracy: 0.773, time: 0:10:35\n",
      "Epoch 24 | train loss: 0.671, train accuracy: 0.769, test loss: 0.635, test accuracy: 0.780, time: 0:11:02\n",
      "Epoch 25 | train loss: 0.664, train accuracy: 0.771, test loss: 0.647, test accuracy: 0.781, time: 0:11:29\n",
      "Epoch 26 | train loss: 0.653, train accuracy: 0.775, test loss: 0.649, test accuracy: 0.782, time: 0:11:56\n",
      "Epoch 27 | train loss: 0.653, train accuracy: 0.775, test loss: 0.684, test accuracy: 0.772, time: 0:12:23\n",
      "Epoch 28 | train loss: 0.646, train accuracy: 0.777, test loss: 0.612, test accuracy: 0.794, time: 0:12:51\n",
      "Epoch 29 | train loss: 0.643, train accuracy: 0.777, test loss: 0.616, test accuracy: 0.793, time: 0:13:19\n",
      "Epoch 30 | train loss: 0.641, train accuracy: 0.778, test loss: 0.665, test accuracy: 0.775, time: 0:13:48\n",
      "Epoch 31 | train loss: 0.630, train accuracy: 0.783, test loss: 0.615, test accuracy: 0.788, time: 0:14:21\n",
      "Epoch 32 | train loss: 0.626, train accuracy: 0.785, test loss: 0.628, test accuracy: 0.790, time: 0:14:52\n",
      "Epoch 33 | train loss: 0.618, train accuracy: 0.786, test loss: 0.646, test accuracy: 0.779, time: 0:15:21\n",
      "Epoch 34 | train loss: 0.622, train accuracy: 0.784, test loss: 0.608, test accuracy: 0.791, time: 0:15:49\n",
      "Epoch 35 | train loss: 0.613, train accuracy: 0.787, test loss: 0.604, test accuracy: 0.799, time: 0:16:19\n",
      "Epoch 36 | train loss: 0.614, train accuracy: 0.790, test loss: 0.592, test accuracy: 0.800, time: 0:16:46\n",
      "Epoch 37 | train loss: 0.604, train accuracy: 0.792, test loss: 0.618, test accuracy: 0.791, time: 0:17:14\n",
      "Epoch 38 | train loss: 0.601, train accuracy: 0.792, test loss: 0.627, test accuracy: 0.787, time: 0:17:42\n",
      "Epoch 39 | train loss: 0.598, train accuracy: 0.795, test loss: 0.642, test accuracy: 0.783, time: 0:18:09\n",
      "Epoch 40 | train loss: 0.599, train accuracy: 0.793, test loss: 0.592, test accuracy: 0.803, time: 0:18:38\n",
      "Epoch 41 | train loss: 0.591, train accuracy: 0.797, test loss: 0.599, test accuracy: 0.803, time: 0:19:05\n",
      "Epoch 42 | train loss: 0.591, train accuracy: 0.797, test loss: 0.598, test accuracy: 0.798, time: 0:19:32\n",
      "Epoch 43 | train loss: 0.589, train accuracy: 0.797, test loss: 0.597, test accuracy: 0.801, time: 0:20:04\n",
      "Epoch 44 | train loss: 0.584, train accuracy: 0.798, test loss: 0.612, test accuracy: 0.797, time: 0:20:33\n",
      "Epoch 45 | train loss: 0.582, train accuracy: 0.800, test loss: 0.584, test accuracy: 0.801, time: 0:21:03\n",
      "Epoch 46 | train loss: 0.581, train accuracy: 0.799, test loss: 0.600, test accuracy: 0.800, time: 0:21:35\n",
      "Epoch 47 | train loss: 0.577, train accuracy: 0.802, test loss: 0.571, test accuracy: 0.811, time: 0:22:07\n",
      "Epoch 48 | train loss: 0.577, train accuracy: 0.801, test loss: 0.597, test accuracy: 0.802, time: 0:22:35\n",
      "Epoch 49 | train loss: 0.570, train accuracy: 0.803, test loss: 0.605, test accuracy: 0.801, time: 0:23:03\n",
      "Epoch 50 | train loss: 0.568, train accuracy: 0.806, test loss: 0.603, test accuracy: 0.795, time: 0:23:31\n"
     ]
    }
   ],
   "source": [
    "# POINTS: 3\n",
    "\n",
    "cnn_batchnorm = nn.Sequential(\n",
    "    # YOUR CODE HERE\n",
    "    nn.Conv2d(in_channels=3, out_channels=64, kernel_size=3, padding=1,bias=False),\n",
    "    nn.BatchNorm2d(num_features = 64, eps=1e-05, momentum=0.1, affine=True, track_running_stats=True, device=None, dtype=None),\n",
    "    nn.ReLU(),\n",
    "    nn.MaxPool2d(kernel_size=2, stride=2),\n",
    "    nn.Conv2d(in_channels=64, out_channels=64, kernel_size=3, padding=1,bias=False),\n",
    "    nn.BatchNorm2d(num_features  = 64, eps=1e-05, momentum=0.1, affine=True, track_running_stats=True, device=None, dtype=None),\n",
    "    nn.ReLU(),\n",
    "    nn.MaxPool2d(kernel_size=2, stride=2),\n",
    "    nn.Flatten(),\n",
    "    nn.Linear(in_features=4096, out_features=10)\n",
    "    #raise NotImplementedError()\n",
    ")\n",
    "if USE_GPU:\n",
    "    cnn_batchnorm.cuda()\n",
    "\n",
    "opt = optim.Adam(cnn_batchnorm.parameters(), lr=1e-3)\n",
    "train_classifier(cnn_batchnorm, opt, 'cnn_batchnorm', train_data=augmented_train_data)"
   ]
  },
  {
   "cell_type": "markdown",
   "metadata": {
    "deletable": false,
    "editable": false,
    "nbgrader": {
     "cell_type": "markdown",
     "checksum": "a7ac28f2a6faced5ad48faa2f43224f6",
     "grade": false,
     "grade_id": "cell-57707594f666ee77",
     "locked": true,
     "schema_version": 3,
     "solution": false,
     "task": false
    }
   },
   "source": [
    "## Strided Convolutions\n",
    "\n",
    "Max-pooling is a popular technique for reducing the spatial dimensionality\n",
    "of the outputs from conv layers. Another way to reduce dimensionality is striding. For an argument why this may be similarly effective, see [Springenberg et al., ICLRW'15](https://arxiv.org/pdf/1412.6806.pdf).\n",
    "\n",
    "Now create a model using the same architecture as before, with the difference of\n",
    "removing the max-pooling layers and increasing the stride parameter of the conv layers to $2 \\times 2$ in the spatial dimensions. "
   ]
  },
  {
   "cell_type": "code",
   "execution_count": 122,
   "metadata": {
    "deletable": false,
    "nbgrader": {
     "cell_type": "code",
     "checksum": "735a9eb696991a3230e2314330847d97",
     "grade": true,
     "grade_id": "cell-34f5d6a1166b46fa",
     "locked": false,
     "points": 2,
     "schema_version": 3,
     "solution": true
    }
   },
   "outputs": [
    {
     "name": "stdout",
     "output_type": "stream",
     "text": [
      "Epoch 1 | train loss: 1.525, train accuracy: 0.451, test loss: 1.237, test accuracy: 0.562, time: 0:00:28\n",
      "Epoch 2 | train loss: 1.243, train accuracy: 0.557, test loss: 1.088, test accuracy: 0.614, time: 0:00:56\n",
      "Epoch 3 | train loss: 1.128, train accuracy: 0.601, test loss: 0.957, test accuracy: 0.664, time: 0:01:23\n",
      "Epoch 4 | train loss: 1.074, train accuracy: 0.622, test loss: 0.957, test accuracy: 0.662, time: 0:01:49\n",
      "Epoch 5 | train loss: 1.031, train accuracy: 0.638, test loss: 0.921, test accuracy: 0.679, time: 0:02:17\n",
      "Epoch 6 | train loss: 0.985, train accuracy: 0.656, test loss: 0.899, test accuracy: 0.689, time: 0:02:45\n",
      "Epoch 7 | train loss: 0.968, train accuracy: 0.661, test loss: 0.903, test accuracy: 0.685, time: 0:03:12\n",
      "Epoch 8 | train loss: 0.940, train accuracy: 0.672, test loss: 0.869, test accuracy: 0.697, time: 0:03:42\n",
      "Epoch 9 | train loss: 0.927, train accuracy: 0.678, test loss: 0.878, test accuracy: 0.695, time: 0:04:10\n",
      "Epoch 10 | train loss: 0.908, train accuracy: 0.684, test loss: 0.874, test accuracy: 0.699, time: 0:04:39\n",
      "Epoch 11 | train loss: 0.890, train accuracy: 0.692, test loss: 0.798, test accuracy: 0.723, time: 0:05:06\n",
      "Epoch 12 | train loss: 0.880, train accuracy: 0.694, test loss: 0.806, test accuracy: 0.719, time: 0:05:34\n",
      "Epoch 13 | train loss: 0.867, train accuracy: 0.700, test loss: 0.815, test accuracy: 0.712, time: 0:06:01\n",
      "Epoch 14 | train loss: 0.856, train accuracy: 0.703, test loss: 0.773, test accuracy: 0.731, time: 0:06:28\n",
      "Epoch 15 | train loss: 0.846, train accuracy: 0.706, test loss: 0.791, test accuracy: 0.726, time: 0:06:55\n",
      "Epoch 16 | train loss: 0.838, train accuracy: 0.708, test loss: 0.790, test accuracy: 0.729, time: 0:07:22\n",
      "Epoch 17 | train loss: 0.830, train accuracy: 0.712, test loss: 0.758, test accuracy: 0.735, time: 0:07:48\n",
      "Epoch 18 | train loss: 0.823, train accuracy: 0.713, test loss: 0.778, test accuracy: 0.731, time: 0:08:15\n",
      "Epoch 19 | train loss: 0.812, train accuracy: 0.722, test loss: 0.776, test accuracy: 0.732, time: 0:08:42\n",
      "Epoch 20 | train loss: 0.812, train accuracy: 0.720, test loss: 0.731, test accuracy: 0.747, time: 0:09:08\n",
      "Epoch 21 | train loss: 0.800, train accuracy: 0.723, test loss: 0.756, test accuracy: 0.738, time: 0:09:35\n",
      "Epoch 22 | train loss: 0.800, train accuracy: 0.722, test loss: 0.734, test accuracy: 0.745, time: 0:10:02\n",
      "Epoch 23 | train loss: 0.786, train accuracy: 0.727, test loss: 0.739, test accuracy: 0.745, time: 0:10:29\n",
      "Epoch 24 | train loss: 0.781, train accuracy: 0.729, test loss: 0.744, test accuracy: 0.743, time: 0:10:57\n",
      "Epoch 25 | train loss: 0.781, train accuracy: 0.728, test loss: 0.726, test accuracy: 0.746, time: 0:11:25\n",
      "Epoch 26 | train loss: 0.774, train accuracy: 0.730, test loss: 0.749, test accuracy: 0.742, time: 0:11:52\n",
      "Epoch 27 | train loss: 0.764, train accuracy: 0.735, test loss: 0.737, test accuracy: 0.744, time: 0:12:20\n",
      "Epoch 28 | train loss: 0.762, train accuracy: 0.737, test loss: 0.728, test accuracy: 0.749, time: 0:12:47\n",
      "Epoch 29 | train loss: 0.761, train accuracy: 0.735, test loss: 0.744, test accuracy: 0.747, time: 0:13:15\n",
      "Epoch 30 | train loss: 0.757, train accuracy: 0.739, test loss: 0.703, test accuracy: 0.755, time: 0:13:44\n",
      "Epoch 31 | train loss: 0.748, train accuracy: 0.741, test loss: 0.698, test accuracy: 0.759, time: 0:14:11\n",
      "Epoch 32 | train loss: 0.747, train accuracy: 0.743, test loss: 0.721, test accuracy: 0.750, time: 0:14:38\n",
      "Epoch 33 | train loss: 0.743, train accuracy: 0.743, test loss: 0.700, test accuracy: 0.756, time: 0:15:07\n",
      "Epoch 34 | train loss: 0.737, train accuracy: 0.746, test loss: 0.721, test accuracy: 0.753, time: 0:15:36\n",
      "Epoch 35 | train loss: 0.733, train accuracy: 0.745, test loss: 0.773, test accuracy: 0.734, time: 0:16:03\n",
      "Epoch 36 | train loss: 0.734, train accuracy: 0.745, test loss: 0.694, test accuracy: 0.760, time: 0:16:30\n",
      "Epoch 37 | train loss: 0.728, train accuracy: 0.750, test loss: 0.685, test accuracy: 0.764, time: 0:16:58\n",
      "Epoch 38 | train loss: 0.727, train accuracy: 0.748, test loss: 0.706, test accuracy: 0.755, time: 0:17:25\n",
      "Epoch 39 | train loss: 0.719, train accuracy: 0.752, test loss: 0.702, test accuracy: 0.759, time: 0:17:54\n",
      "Epoch 40 | train loss: 0.715, train accuracy: 0.753, test loss: 0.690, test accuracy: 0.766, time: 0:18:23\n",
      "Epoch 41 | train loss: 0.717, train accuracy: 0.751, test loss: 0.680, test accuracy: 0.764, time: 0:18:53\n",
      "Epoch 42 | train loss: 0.710, train accuracy: 0.756, test loss: 0.689, test accuracy: 0.764, time: 0:19:22\n",
      "Epoch 43 | train loss: 0.710, train accuracy: 0.754, test loss: 0.697, test accuracy: 0.760, time: 0:19:51\n",
      "Epoch 44 | train loss: 0.708, train accuracy: 0.753, test loss: 0.684, test accuracy: 0.763, time: 0:20:18\n",
      "Epoch 45 | train loss: 0.704, train accuracy: 0.757, test loss: 0.673, test accuracy: 0.767, time: 0:20:45\n",
      "Epoch 46 | train loss: 0.704, train accuracy: 0.756, test loss: 0.674, test accuracy: 0.768, time: 0:21:13\n",
      "Epoch 47 | train loss: 0.702, train accuracy: 0.757, test loss: 0.683, test accuracy: 0.763, time: 0:21:42\n",
      "Epoch 48 | train loss: 0.699, train accuracy: 0.756, test loss: 0.678, test accuracy: 0.765, time: 0:22:12\n",
      "Epoch 49 | train loss: 0.694, train accuracy: 0.758, test loss: 0.676, test accuracy: 0.766, time: 0:22:39\n",
      "Epoch 50 | train loss: 0.695, train accuracy: 0.760, test loss: 0.681, test accuracy: 0.767, time: 0:23:06\n"
     ]
    }
   ],
   "source": [
    "# POINTS: 2\n",
    "\n",
    "cnn_strides = nn.Sequential(\n",
    "    # YOUR CODE HERE\n",
    "    nn.Conv2d(in_channels=3, out_channels=64, kernel_size=3, padding=1,bias=False,stride=(2, 2)),\n",
    "    nn.BatchNorm2d(num_features = 64, eps=1e-05, momentum=0.1, affine=True, track_running_stats=True, device=None, dtype=None),\n",
    "    nn.ReLU(),\n",
    "    #nn.MaxPool2d(kernel_size=2, stride=2),\n",
    "    nn.Conv2d(in_channels=64, out_channels=64, kernel_size=3, padding=1,bias=False,stride=(2, 2)),\n",
    "    nn.BatchNorm2d(num_features  = 64, eps=1e-05, momentum=0.1, affine=True, track_running_stats=True, device=None, dtype=None),\n",
    "    nn.ReLU(),\n",
    "    #nn.MaxPool2d(kernel_size=2, stride=2),\n",
    "    nn.Flatten(),\n",
    "    nn.Linear(in_features=4096, out_features=10)\n",
    "    #raise NotImplementedError()\n",
    ")\n",
    "if USE_GPU:\n",
    "    cnn_strides.cuda()\n",
    "\n",
    "opt = optim.Adam(cnn_strides.parameters(), lr=1e-3)\n",
    "train_classifier(cnn_strides, opt, 'cnn_strides', train_data=augmented_train_data)"
   ]
  },
  {
   "cell_type": "markdown",
   "metadata": {
    "deletable": false,
    "editable": false,
    "nbgrader": {
     "cell_type": "markdown",
     "checksum": "fb27ebaacf2db8e350735285db940944",
     "grade": false,
     "grade_id": "cell-cbb6e2eeb2dcc66e",
     "locked": true,
     "schema_version": 3,
     "solution": false,
     "task": false
    }
   },
   "source": [
    "What differences do you notice when training this new network?\n",
    "What is a clear advantage of using strides?"
   ]
  },
  {
   "cell_type": "markdown",
   "metadata": {
    "deletable": false,
    "nbgrader": {
     "cell_type": "markdown",
     "checksum": "c00f4ff39d8abb65116bdf0a0589d1c7",
     "grade": true,
     "grade_id": "cell-12ee310e8234b8f8",
     "locked": false,
     "points": 0,
     "schema_version": 3,
     "solution": true,
     "task": false
    }
   },
   "source": [
    "*POINTS: 0*\n",
    "\n",
    "YOUR ANSWER HERE"
   ]
  },
  {
   "cell_type": "markdown",
   "metadata": {
    "deletable": false,
    "editable": false,
    "nbgrader": {
     "cell_type": "markdown",
     "checksum": "10c6a5679d00652a999570b133d4f792",
     "grade": false,
     "grade_id": "cell-bc32808a463893fd",
     "locked": true,
     "schema_version": 3,
     "solution": false,
     "task": false
    }
   },
   "source": [
    "## Global Pooling\n",
    "\n",
    "The above network ends in a `Flatten` layer followed by a `Linear` layer, in which the number of weights depends on the input size. This means that testing can only be performed on the exact same image size. Several architectures employ a (spatial) **global average pooling layer** to produce a vector of fixed size describing the whole image.\n",
    "\n",
    "Implement the forward pass of such a layer below. The input `x` has size `[batch_size, channels, height, width]`. The mean must be computed across the last two dimensions, such that the result `pooled` has a size of `[batch_size, channels]`. Note, that you cannot use numpy for this as PyTorch is not able to backpropagate through numpy functions. There are however corresponding PyTorch functions for almost all numpy functions.\n",
    "\n",
    "This layer can now replace the flattening operation from the previous network. However, the units before the average pooling need to have a large enough receptive field, otherwise the model will not work well. Therefore, compared with the previous model, remove the `Flatten` layer and instead add a third Conv-BatchNorm-ReLU combination. Then add `GlobalAvgPool2d` and a final `Linear` layer which returns $10$ values per sample instead of $64$.\n",
    "\n",
    "Train it and see if it reaches similar accuracy to the previous one."
   ]
  },
  {
   "cell_type": "code",
   "execution_count": 161,
   "metadata": {
    "deletable": false,
    "nbgrader": {
     "cell_type": "code",
     "checksum": "db818f085096735ade425e7442ddc610",
     "grade": true,
     "grade_id": "cell-384e1eaafbd3f3b6",
     "locked": false,
     "points": 4,
     "schema_version": 3,
     "solution": true,
     "task": false
    }
   },
   "outputs": [
    {
     "name": "stdout",
     "output_type": "stream",
     "text": [
      "torch.Size([128, 64, 4, 4])\n"
     ]
    },
    {
     "ename": "TypeError",
     "evalue": "can't convert cuda:0 device type tensor to numpy. Use Tensor.cpu() to copy the tensor to host memory first.",
     "output_type": "error",
     "traceback": [
      "\u001b[1;31m---------------------------------------------------------------------------\u001b[0m",
      "\u001b[1;31mTypeError\u001b[0m                                 Traceback (most recent call last)",
      "Input \u001b[1;32mIn [161]\u001b[0m, in \u001b[0;36m<cell line: 42>\u001b[1;34m()\u001b[0m\n\u001b[0;32m     39\u001b[0m     cnn_global_pool\u001b[38;5;241m.\u001b[39mcuda()\n\u001b[0;32m     41\u001b[0m opt \u001b[38;5;241m=\u001b[39m optim\u001b[38;5;241m.\u001b[39mAdam(cnn_global_pool\u001b[38;5;241m.\u001b[39mparameters(), lr\u001b[38;5;241m=\u001b[39m\u001b[38;5;241m1e-3\u001b[39m)\n\u001b[1;32m---> 42\u001b[0m \u001b[43mtrain_classifier\u001b[49m\u001b[43m(\u001b[49m\u001b[43mcnn_global_pool\u001b[49m\u001b[43m,\u001b[49m\u001b[43m \u001b[49m\u001b[43mopt\u001b[49m\u001b[43m,\u001b[49m\u001b[43m \u001b[49m\u001b[38;5;124;43m'\u001b[39;49m\u001b[38;5;124;43mcnn_global_pool\u001b[39;49m\u001b[38;5;124;43m'\u001b[39;49m\u001b[43m,\u001b[49m\u001b[43m \u001b[49m\u001b[43mtrain_data\u001b[49m\u001b[38;5;241;43m=\u001b[39;49m\u001b[43maugmented_train_data\u001b[49m\u001b[43m)\u001b[49m\n",
      "Input \u001b[1;32mIn [5]\u001b[0m, in \u001b[0;36mtrain_classifier\u001b[1;34m(model, opt, logdir, train_data, test_data, batch_size, n_epochs, lr_scheduler)\u001b[0m\n\u001b[0;32m     33\u001b[0m     xs \u001b[38;5;241m=\u001b[39m xs\u001b[38;5;241m.\u001b[39mcuda()\n\u001b[0;32m     34\u001b[0m     ys \u001b[38;5;241m=\u001b[39m ys\u001b[38;5;241m.\u001b[39mcuda()\n\u001b[1;32m---> 35\u001b[0m out \u001b[38;5;241m=\u001b[39m \u001b[43mmodel\u001b[49m\u001b[43m(\u001b[49m\u001b[43mxs\u001b[49m\u001b[43m)\u001b[49m\n\u001b[0;32m     36\u001b[0m loss \u001b[38;5;241m=\u001b[39m criterion(out, ys)\n\u001b[0;32m     37\u001b[0m loss\u001b[38;5;241m.\u001b[39mbackward()\n",
      "File \u001b[1;32m~\\anaconda3\\envs\\tf\\lib\\site-packages\\torch\\nn\\modules\\module.py:1110\u001b[0m, in \u001b[0;36mModule._call_impl\u001b[1;34m(self, *input, **kwargs)\u001b[0m\n\u001b[0;32m   1106\u001b[0m \u001b[38;5;66;03m# If we don't have any hooks, we want to skip the rest of the logic in\u001b[39;00m\n\u001b[0;32m   1107\u001b[0m \u001b[38;5;66;03m# this function, and just call forward.\u001b[39;00m\n\u001b[0;32m   1108\u001b[0m \u001b[38;5;28;01mif\u001b[39;00m \u001b[38;5;129;01mnot\u001b[39;00m (\u001b[38;5;28mself\u001b[39m\u001b[38;5;241m.\u001b[39m_backward_hooks \u001b[38;5;129;01mor\u001b[39;00m \u001b[38;5;28mself\u001b[39m\u001b[38;5;241m.\u001b[39m_forward_hooks \u001b[38;5;129;01mor\u001b[39;00m \u001b[38;5;28mself\u001b[39m\u001b[38;5;241m.\u001b[39m_forward_pre_hooks \u001b[38;5;129;01mor\u001b[39;00m _global_backward_hooks\n\u001b[0;32m   1109\u001b[0m         \u001b[38;5;129;01mor\u001b[39;00m _global_forward_hooks \u001b[38;5;129;01mor\u001b[39;00m _global_forward_pre_hooks):\n\u001b[1;32m-> 1110\u001b[0m     \u001b[38;5;28;01mreturn\u001b[39;00m forward_call(\u001b[38;5;241m*\u001b[39m\u001b[38;5;28minput\u001b[39m, \u001b[38;5;241m*\u001b[39m\u001b[38;5;241m*\u001b[39mkwargs)\n\u001b[0;32m   1111\u001b[0m \u001b[38;5;66;03m# Do not call functions when jit is used\u001b[39;00m\n\u001b[0;32m   1112\u001b[0m full_backward_hooks, non_full_backward_hooks \u001b[38;5;241m=\u001b[39m [], []\n",
      "File \u001b[1;32m~\\anaconda3\\envs\\tf\\lib\\site-packages\\torch\\nn\\modules\\container.py:141\u001b[0m, in \u001b[0;36mSequential.forward\u001b[1;34m(self, input)\u001b[0m\n\u001b[0;32m    139\u001b[0m \u001b[38;5;28;01mdef\u001b[39;00m \u001b[38;5;21mforward\u001b[39m(\u001b[38;5;28mself\u001b[39m, \u001b[38;5;28minput\u001b[39m):\n\u001b[0;32m    140\u001b[0m     \u001b[38;5;28;01mfor\u001b[39;00m module \u001b[38;5;129;01min\u001b[39;00m \u001b[38;5;28mself\u001b[39m:\n\u001b[1;32m--> 141\u001b[0m         \u001b[38;5;28minput\u001b[39m \u001b[38;5;241m=\u001b[39m \u001b[43mmodule\u001b[49m\u001b[43m(\u001b[49m\u001b[38;5;28;43minput\u001b[39;49m\u001b[43m)\u001b[49m\n\u001b[0;32m    142\u001b[0m     \u001b[38;5;28;01mreturn\u001b[39;00m \u001b[38;5;28minput\u001b[39m\n",
      "File \u001b[1;32m~\\anaconda3\\envs\\tf\\lib\\site-packages\\torch\\nn\\modules\\module.py:1110\u001b[0m, in \u001b[0;36mModule._call_impl\u001b[1;34m(self, *input, **kwargs)\u001b[0m\n\u001b[0;32m   1106\u001b[0m \u001b[38;5;66;03m# If we don't have any hooks, we want to skip the rest of the logic in\u001b[39;00m\n\u001b[0;32m   1107\u001b[0m \u001b[38;5;66;03m# this function, and just call forward.\u001b[39;00m\n\u001b[0;32m   1108\u001b[0m \u001b[38;5;28;01mif\u001b[39;00m \u001b[38;5;129;01mnot\u001b[39;00m (\u001b[38;5;28mself\u001b[39m\u001b[38;5;241m.\u001b[39m_backward_hooks \u001b[38;5;129;01mor\u001b[39;00m \u001b[38;5;28mself\u001b[39m\u001b[38;5;241m.\u001b[39m_forward_hooks \u001b[38;5;129;01mor\u001b[39;00m \u001b[38;5;28mself\u001b[39m\u001b[38;5;241m.\u001b[39m_forward_pre_hooks \u001b[38;5;129;01mor\u001b[39;00m _global_backward_hooks\n\u001b[0;32m   1109\u001b[0m         \u001b[38;5;129;01mor\u001b[39;00m _global_forward_hooks \u001b[38;5;129;01mor\u001b[39;00m _global_forward_pre_hooks):\n\u001b[1;32m-> 1110\u001b[0m     \u001b[38;5;28;01mreturn\u001b[39;00m forward_call(\u001b[38;5;241m*\u001b[39m\u001b[38;5;28minput\u001b[39m, \u001b[38;5;241m*\u001b[39m\u001b[38;5;241m*\u001b[39mkwargs)\n\u001b[0;32m   1111\u001b[0m \u001b[38;5;66;03m# Do not call functions when jit is used\u001b[39;00m\n\u001b[0;32m   1112\u001b[0m full_backward_hooks, non_full_backward_hooks \u001b[38;5;241m=\u001b[39m [], []\n",
      "Input \u001b[1;32mIn [161]\u001b[0m, in \u001b[0;36mGlobalAvgPool2d.forward\u001b[1;34m(self, x)\u001b[0m\n\u001b[0;32m     11\u001b[0m pooled \u001b[38;5;241m=\u001b[39m np\u001b[38;5;241m.\u001b[39mzeros((batch,channel))\n\u001b[0;32m     12\u001b[0m \u001b[38;5;28mprint\u001b[39m(x\u001b[38;5;241m.\u001b[39msize())\n\u001b[1;32m---> 13\u001b[0m pooled\u001b[38;5;241m=\u001b[39m\u001b[43mnp\u001b[49m\u001b[38;5;241;43m.\u001b[39;49m\u001b[43mapply_over_axes\u001b[49m\u001b[43m(\u001b[49m\u001b[43mnp\u001b[49m\u001b[38;5;241;43m.\u001b[39;49m\u001b[43mmean\u001b[49m\u001b[43m,\u001b[49m\u001b[43m \u001b[49m\u001b[43mx\u001b[49m\u001b[43m,\u001b[49m\u001b[43m \u001b[49m\u001b[43m[\u001b[49m\u001b[38;5;241;43m2\u001b[39;49m\u001b[43m,\u001b[49m\u001b[43m \u001b[49m\u001b[38;5;241;43m3\u001b[39;49m\u001b[43m]\u001b[49m\u001b[43m)\u001b[49m\n\u001b[0;32m     14\u001b[0m \u001b[38;5;28mprint\u001b[39m(pooled\u001b[38;5;241m.\u001b[39msize())\n\u001b[0;32m     15\u001b[0m \u001b[38;5;28;01mif\u001b[39;00m USE_GPU:\n",
      "File \u001b[1;32m<__array_function__ internals>:180\u001b[0m, in \u001b[0;36mapply_over_axes\u001b[1;34m(*args, **kwargs)\u001b[0m\n",
      "File \u001b[1;32m~\\anaconda3\\envs\\tf\\lib\\site-packages\\numpy\\lib\\shape_base.py:487\u001b[0m, in \u001b[0;36mapply_over_axes\u001b[1;34m(func, a, axes)\u001b[0m\n\u001b[0;32m    421\u001b[0m \u001b[38;5;129m@array_function_dispatch\u001b[39m(_apply_over_axes_dispatcher)\n\u001b[0;32m    422\u001b[0m \u001b[38;5;28;01mdef\u001b[39;00m \u001b[38;5;21mapply_over_axes\u001b[39m(func, a, axes):\n\u001b[0;32m    423\u001b[0m     \u001b[38;5;124;03m\"\"\"\u001b[39;00m\n\u001b[0;32m    424\u001b[0m \u001b[38;5;124;03m    Apply a function repeatedly over multiple axes.\u001b[39;00m\n\u001b[0;32m    425\u001b[0m \n\u001b[1;32m   (...)\u001b[0m\n\u001b[0;32m    485\u001b[0m \n\u001b[0;32m    486\u001b[0m \u001b[38;5;124;03m    \"\"\"\u001b[39;00m\n\u001b[1;32m--> 487\u001b[0m     val \u001b[38;5;241m=\u001b[39m \u001b[43masarray\u001b[49m\u001b[43m(\u001b[49m\u001b[43ma\u001b[49m\u001b[43m)\u001b[49m\n\u001b[0;32m    488\u001b[0m     N \u001b[38;5;241m=\u001b[39m a\u001b[38;5;241m.\u001b[39mndim\n\u001b[0;32m    489\u001b[0m     \u001b[38;5;28;01mif\u001b[39;00m array(axes)\u001b[38;5;241m.\u001b[39mndim \u001b[38;5;241m==\u001b[39m \u001b[38;5;241m0\u001b[39m:\n",
      "File \u001b[1;32m~\\anaconda3\\envs\\tf\\lib\\site-packages\\torch\\_tensor.py:732\u001b[0m, in \u001b[0;36mTensor.__array__\u001b[1;34m(self, dtype)\u001b[0m\n\u001b[0;32m    730\u001b[0m     \u001b[38;5;28;01mreturn\u001b[39;00m handle_torch_function(Tensor\u001b[38;5;241m.\u001b[39m__array__, (\u001b[38;5;28mself\u001b[39m,), \u001b[38;5;28mself\u001b[39m, dtype\u001b[38;5;241m=\u001b[39mdtype)\n\u001b[0;32m    731\u001b[0m \u001b[38;5;28;01mif\u001b[39;00m dtype \u001b[38;5;129;01mis\u001b[39;00m \u001b[38;5;28;01mNone\u001b[39;00m:\n\u001b[1;32m--> 732\u001b[0m     \u001b[38;5;28;01mreturn\u001b[39;00m \u001b[38;5;28;43mself\u001b[39;49m\u001b[38;5;241;43m.\u001b[39;49m\u001b[43mnumpy\u001b[49m\u001b[43m(\u001b[49m\u001b[43m)\u001b[49m\n\u001b[0;32m    733\u001b[0m \u001b[38;5;28;01melse\u001b[39;00m:\n\u001b[0;32m    734\u001b[0m     \u001b[38;5;28;01mreturn\u001b[39;00m \u001b[38;5;28mself\u001b[39m\u001b[38;5;241m.\u001b[39mnumpy()\u001b[38;5;241m.\u001b[39mastype(dtype, copy\u001b[38;5;241m=\u001b[39m\u001b[38;5;28;01mFalse\u001b[39;00m)\n",
      "\u001b[1;31mTypeError\u001b[0m: can't convert cuda:0 device type tensor to numpy. Use Tensor.cpu() to copy the tensor to host memory first."
     ]
    }
   ],
   "source": [
    "# POINTS: 4\n",
    "\n",
    "class GlobalAvgPool2d(torch.nn.Module):\n",
    "    def __init__(self):\n",
    "        super().__init__()\n",
    "\n",
    "    def forward(self, x):\n",
    "        # YOUR CODE HERE\n",
    "        batch, channel, _,_ = x.shape\n",
    "        pooled = torch.zeros((batch,channel),dtype=torch.float)\n",
    "        print(x.size())\n",
    "        pooled=np.apply_over_axes(np.mean, x, [2, 3])\n",
    "        print(pooled.size())\n",
    "        if USE_GPU:\n",
    "            pooled = pooled.cuda()\n",
    "        #raise NotImplementedError()\n",
    "        return pooled\n",
    "\n",
    "\n",
    "cnn_global_pool = nn.Sequential(\n",
    "    # YOUR CODE HERE\n",
    "    nn.Conv2d(in_channels=3, out_channels=64, kernel_size=3, padding=1,bias=False,stride=(2, 2)),\n",
    "    nn.BatchNorm2d(num_features = 64, eps=1e-05, momentum=0.1, affine=True, track_running_stats=True, device=None, dtype=None),\n",
    "    nn.ReLU(),\n",
    "    #nn.MaxPool2d(kernel_size=2, stride=2),\n",
    "    nn.Conv2d(in_channels=64, out_channels=64, kernel_size=3, padding=1,bias=False,stride=(2, 2)),\n",
    "    nn.BatchNorm2d(num_features  = 64, eps=1e-05, momentum=0.1, affine=True, track_running_stats=True, device=None, dtype=None),\n",
    "    nn.ReLU(),\n",
    "    #nn.MaxPool2d(kernel_size=2, stride=2),\n",
    "    nn.Conv2d(in_channels=64, out_channels=64, kernel_size=3, padding=1,bias=False,stride=(2, 2)),\n",
    "    nn.BatchNorm2d(num_features  = 64, eps=1e-05, momentum=0.1, affine=True, track_running_stats=True, device=None, dtype=None),\n",
    "    nn.ReLU(),\n",
    "    GlobalAvgPool2d(),\n",
    "    nn.Linear(in_features=64, out_features=10)\n",
    "    #raise NotImplementedError()\n",
    ")\n",
    "if USE_GPU:\n",
    "    cnn_global_pool.cuda()\n",
    "\n",
    "opt = optim.Adam(cnn_global_pool.parameters(), lr=1e-3)\n",
    "train_classifier(cnn_global_pool, opt, 'cnn_global_pool', train_data=augmented_train_data)"
   ]
  },
  {
   "cell_type": "markdown",
   "metadata": {
    "deletable": false,
    "editable": false,
    "nbgrader": {
     "cell_type": "markdown",
     "checksum": "ee6de3f7f259be2d205f59714faefb0a",
     "grade": false,
     "grade_id": "cell-527e589864d3a660",
     "locked": true,
     "schema_version": 3,
     "solution": false,
     "task": false
    }
   },
   "source": [
    "Which network has more parameters, this or the previous one?\n",
    "\n",
    "What is the size of the receptive field of the units in the layer directly before the global average pooling? (Remember: the receptive field of a particular unit (neuron) is the area of the *input image* that can influence the activation of this given unit)."
   ]
  },
  {
   "cell_type": "markdown",
   "metadata": {
    "deletable": false,
    "nbgrader": {
     "cell_type": "markdown",
     "checksum": "df0c0d22fa5a21c06cc25bcc63a499c6",
     "grade": true,
     "grade_id": "cell-a36f95947bd5ba86",
     "locked": false,
     "points": 0,
     "schema_version": 3,
     "solution": true,
     "task": false
    }
   },
   "source": [
    "*POINTS: 0*\n",
    "\n",
    "YOUR ANSWER HERE"
   ]
  },
  {
   "cell_type": "markdown",
   "metadata": {
    "deletable": false,
    "editable": false,
    "nbgrader": {
     "cell_type": "markdown",
     "checksum": "bf60b8f446c3347eb7b6509af0b9607b",
     "grade": false,
     "grade_id": "cell-cfc670e8ea147092",
     "locked": true,
     "schema_version": 3,
     "solution": false,
     "task": false
    }
   },
   "source": [
    "## Residual Networks\n",
    "\n",
    "ResNet is a more modern architecture, introduced by He et al. in 2015 (published in 2016: https://www.cv-foundation.org/openaccess/content_cvpr_2016/papers/He_Deep_Residual_Learning_CVPR_2016_paper.pdf) and is still popular today.\n",
    "\n",
    "It consists of blocks like the following:\n",
    "\n",
    "![ResNet Block](resnet_block.png)\n",
    "\n",
    "Each of these so-called *residual blocks* only have to predict a *residual* (in plain words: the \"rest\", the \"leftover\") that will be added on top of its input.\n",
    "In other words, the block outputs how much each feature needs to be changed in order to enhance the representation compared to the previous block.\n",
    "\n",
    "There are several ways to combine residual blocks into *residual networks* (ResNets). In the following, we consider ResNet-v1, as used for the CIFAR-10 benchmark in the original ResNet paper (it is simpler compared to the full model that they used for the much larger ImageNet benchmark).\n",
    "\n",
    "Section 4.2. of the paper describes this architecture as follows: \"*The first layer is 3×3 convolutions. Then we use a stack of 6n layers with 3×3 convolutions on the feature maps of sizes {32, 16, 8} respectively, with 2n layers for each feature map size. The numbers of filters are {16, 32, 64} respectively. The subsampling is performed by convolutions with a stride of 2. The network ends with a global average pooling, a 10-way fully-connected layer, and softmax. [...] When shortcut connections are used, they are connected to the pairs of 3×3 layers (totally 3n shortcuts). On this dataset we use identity shortcuts in all cases.*\"\n",
    "\n",
    "Further, they use L2 regularization for training (a standard tool to combat overfitting). This penalizes weights with large magnitude by adding an additional term to the cost function, besides the cross-entropy. The overall function to optimize becomes:\n",
    "\n",
    "$$\n",
    "\\mathcal{L}_{CE} + \\frac{\\lambda}{2} \\sum_{w\\in\\text{weights}} w^2,\n",
    "$$\n",
    "\n",
    "and in this paper $\\lambda=10^{-4}$.\n",
    "\n",
    "Use the explanation above to complete the `layers`-list in the `ResNet`-class below. Note, that the first layer is already added and remember that the final softmax has to be omitted. The `ResNetBlock` already implements the above figure, i.e. contains $2$ convolutions.\n",
    "\n",
    "Weight decay is already added by setting the corresponding attribute of the opimizer."
   ]
  },
  {
   "cell_type": "code",
   "execution_count": null,
   "metadata": {
    "deletable": false,
    "nbgrader": {
     "cell_type": "code",
     "checksum": "059f3c3e5ab6822cbbd7ace3650f979f",
     "grade": true,
     "grade_id": "cell-78512b7752e9d7d2",
     "locked": false,
     "points": 6,
     "schema_version": 3,
     "solution": true,
     "task": false
    }
   },
   "outputs": [],
   "source": [
    "# POINTS: 6\n",
    "\n",
    "class ResNetBlock(torch.nn.Module):\n",
    "    def __init__(self, in_channels, out_channels, stride=1):\n",
    "        super().__init__()\n",
    "        self.f = nn.Sequential(\n",
    "            nn.Conv2d(in_channels, out_channels, kernel_size=3, stride=stride, padding=1, bias=False),\n",
    "            nn.BatchNorm2d(out_channels),\n",
    "            nn.ReLU(),\n",
    "            nn.Conv2d(out_channels, out_channels, kernel_size=3, padding=1, bias=False),\n",
    "            nn.BatchNorm2d(out_channels)\n",
    "        )\n",
    "        self.activation = nn.ReLU()\n",
    "        # The shortcut connection is just the identity. If feature\n",
    "        # channel counts differ between input and output, zero\n",
    "        # padding is used to match the depths. This is implemented\n",
    "        # by a convolution with the following fixed weight:\n",
    "        self.pad_weight = nn.Parameter(\n",
    "            torch.eye(out_channels, in_channels)[:, :, None, None],\n",
    "            requires_grad=False\n",
    "        )\n",
    "        self.stride = stride\n",
    "\n",
    "    def forward(self, x):\n",
    "        r = self.f(x)\n",
    "        # We apply the padding weight using torch.functional.conv2d\n",
    "        # which allows us to use a custom weight matrix.\n",
    "        x = F.conv2d(x, self.pad_weight, stride=self.stride)\n",
    "        return self.activation(x + r)\n",
    "    \n",
    "\n",
    "class ResNet(torch.nn.Module):\n",
    "    def __init__(self, num_layers=14, in_channels=3, out_features=10):\n",
    "        super().__init__()\n",
    "        if (num_layers - 2) % 6 != 0:\n",
    "            raise ValueError('n_layers should be 6n+2 (eg 20, 32, 44, 56)')\n",
    "        n = (num_layers - 2) // 6\n",
    "        \n",
    "        layers = []\n",
    "        \n",
    "        first_layer = nn.Sequential(\n",
    "            nn.Conv2d(in_channels, 16, kernel_size=3, padding=1, bias=False),\n",
    "            nn.BatchNorm2d(16),\n",
    "            nn.ReLU()\n",
    "        )\n",
    "        \n",
    "        layers.append(first_layer)\n",
    "\n",
    "        # YOUR CODE HERE\n",
    "        \n",
    "        raise NotImplementedError()\n",
    "        \n",
    "        self.net = nn.Sequential(*layers)\n",
    "\n",
    "    def forward(self, x):\n",
    "        return self.net(x)"
   ]
  },
  {
   "cell_type": "markdown",
   "metadata": {
    "deletable": false,
    "editable": false,
    "nbgrader": {
     "cell_type": "markdown",
     "checksum": "ffd7372a683b0cf2d589e1d59bd49dc1",
     "grade": false,
     "grade_id": "cell-ac38cfcbccbc3e34",
     "locked": true,
     "schema_version": 3,
     "solution": false,
     "task": false
    }
   },
   "source": [
    "Train ResNet-18 on the CIFAR-10 dataset for 50 epochs. As a rough idea, it will take less than 15 minutes with a good GPU, but on a CPU it can take several hours."
   ]
  },
  {
   "cell_type": "code",
   "execution_count": null,
   "metadata": {
    "deletable": false,
    "editable": false,
    "nbgrader": {
     "cell_type": "code",
     "checksum": "8176ed445f8204508e3d3d803fd02bbb",
     "grade": false,
     "grade_id": "cell-e3b3f6d8fa93f028",
     "locked": true,
     "schema_version": 3,
     "solution": false,
     "task": false
    }
   },
   "outputs": [],
   "source": [
    "resnet = ResNet()\n",
    "if USE_GPU:\n",
    "    resnet.cuda()\n",
    "\n",
    "opt = optim.Adam(resnet.parameters(), lr=1e-3, weight_decay=1e-4)\n",
    "train_classifier(resnet, opt, f'resnet', train_data=augmented_train_data)"
   ]
  },
  {
   "cell_type": "markdown",
   "metadata": {
    "deletable": false,
    "editable": false,
    "nbgrader": {
     "cell_type": "markdown",
     "checksum": "6d30d6ddca7fb16235c3573be47b0266",
     "grade": false,
     "grade_id": "cell-434819020b48d6b4",
     "locked": true,
     "schema_version": 3,
     "solution": false,
     "task": false
    }
   },
   "source": [
    "## Learning Rate Decay\n",
    "\n",
    "Learning rate decay reduces the learning rate as the training progresses. Use the same settings as in the previous experiment, but this time create a `MultiStepLR`-scheduler and decrease the learning rate twice by a factor of 10 each."
   ]
  },
  {
   "cell_type": "code",
   "execution_count": null,
   "metadata": {
    "deletable": false,
    "nbgrader": {
     "cell_type": "code",
     "checksum": "e40b5ceaf07d7fb7d7b5ac5af7ef340e",
     "grade": true,
     "grade_id": "cell-f2042420b7d15963",
     "locked": false,
     "points": 2,
     "schema_version": 3,
     "solution": true
    }
   },
   "outputs": [],
   "source": [
    "# POINTS: 2\n",
    "\n",
    "resnet_decay = ResNet()\n",
    "if USE_GPU:\n",
    "    resnet_decay.cuda()\n",
    "\n",
    "opt = optim.Adam(resnet_decay.parameters(), lr=1e-3, weight_decay=1e-4)\n",
    "# YOUR CODE HERE\n",
    "raise NotImplementedError()\n",
    "train_classifier(resnet_decay, opt, 'resnet_decay', lr_scheduler=scheduler, train_data=augmented_train_data)"
   ]
  },
  {
   "cell_type": "code",
   "execution_count": 148,
   "metadata": {},
   "outputs": [],
   "source": [
    "import dill\n",
    "dill.dump_session('notebook_env.db')"
   ]
  },
  {
   "cell_type": "code",
   "execution_count": null,
   "metadata": {},
   "outputs": [],
   "source": []
  }
 ],
 "metadata": {
  "kernelspec": {
   "display_name": "Python 3 (ipykernel)",
   "language": "python",
   "name": "python3"
  },
  "language_info": {
   "codemirror_mode": {
    "name": "ipython",
    "version": 3
   },
   "file_extension": ".py",
   "mimetype": "text/x-python",
   "name": "python",
   "nbconvert_exporter": "python",
   "pygments_lexer": "ipython3",
   "version": "3.9.12"
  }
 },
 "nbformat": 4,
 "nbformat_minor": 2
}
