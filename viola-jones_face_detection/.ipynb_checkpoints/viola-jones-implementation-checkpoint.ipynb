{
 "cells": [
  {
   "cell_type": "code",
   "execution_count": 1,
   "id": "9ca6a545",
   "metadata": {},
   "outputs": [],
   "source": [
    "import numpy as np\n",
    "import integralimage as ii"
   ]
  },
  {
   "cell_type": "code",
   "execution_count": 4,
   "id": "b223b2c3",
   "metadata": {},
   "outputs": [],
   "source": [
    "def sum_rect_feature(ii,y,x,height,width):\n",
    "    \"\"\"\n",
    "    inputs: integral image , y,x  of top left corner , height and width of rectangular region\n",
    "    returns: sum of all pixels inside the rectangular region (int)\n",
    "    \"\"\"\n",
    "    top_left = (y,x)\n",
    "    bottom_right = (y+height, x+width)\n",
    "    top_right = (y,x+width)\n",
    "    bottom_left = (y+height, x)\n",
    "    \n",
    "    if top_left == bottom_right : \n",
    "        return ii[top_left]\n",
    "    return ii[bottom_right] - ii[top_right] - ii[bottom_left] + ii[top_left]"
   ]
  },
  {
   "cell_type": "code",
   "execution_count": 15,
   "id": "faec921d",
   "metadata": {},
   "outputs": [],
   "source": [
    "feature_types= {\n",
    "    1: (1,2), #\"Two vertical\",\n",
    "    2: (2,1), #\"Two horizontal\",\n",
    "    3: (1,3), #\"three vertical\",\n",
    "    4: (3,1), #\"three horizontal\",\n",
    "    5: (2,2), #\"four quadrants\"\n",
    "}"
   ]
  },
  {
   "cell_type": "code",
   "execution_count": 16,
   "id": "a1241e1b",
   "metadata": {
    "scrolled": true
   },
   "outputs": [
    {
     "data": {
      "text/plain": [
       "5"
      ]
     },
     "execution_count": 16,
     "metadata": {},
     "output_type": "execute_result"
    }
   ],
   "source": [
    "len(feature_types)"
   ]
  },
  {
   "cell_type": "code",
   "execution_count": 17,
   "id": "c918a1ca",
   "metadata": {
    "scrolled": true
   },
   "outputs": [
    {
     "name": "stdout",
     "output_type": "stream",
     "text": [
      "1 (1, 2)\n",
      "2 (2, 1)\n",
      "3 (1, 3)\n",
      "4 (3, 1)\n",
      "5 (2, 2)\n"
     ]
    }
   ],
   "source": [
    "for _ in feature_types:\n",
    "    print(_,feature_types[_])"
   ]
  },
  {
   "cell_type": "code",
   "execution_count": 18,
   "id": "efde2254",
   "metadata": {},
   "outputs": [
    {
     "data": {
      "text/plain": [
       "3"
      ]
     },
     "execution_count": 18,
     "metadata": {},
     "output_type": "execute_result"
    }
   ],
   "source": [
    "feature_types[4][0]"
   ]
  },
  {
   "cell_type": "code",
   "execution_count": null,
   "id": "ba00ba51",
   "metadata": {},
   "outputs": [],
   "source": [
    "def HaarLikeFeature(ii,feature_type, y,x, width, height, threshold, polarity):\n",
    "    #two regions stacked vertically\n",
    "    if feature_type == 1: \n",
    "        black = sum_rect_feature(ii, y, x, height/2, width)\n",
    "        white = sum_rect_feature(ii, y+height/2, x, height/2, width)\n",
    "        score = black - white\n",
    "    #two regions stacked horizontally\n",
    "    if feature_type == 2:\n",
    "        black = sum_rect_feature(ii, y, x, height, width/2)\n",
    "        white = sum_rect_feature(ii, y, x+width/2, height, width/2)\n",
    "        score = black - white\n",
    "    #3 vertical regions (black white black) stacked horizontally\n",
    "    if feature_type == 3:\n",
    "        black1 = sum_rect_feature(ii, y, x, height, width/3)\n",
    "        white = sum_rect_feature(ii, y, x+width/3, height, width/3)\n",
    "        black2 = sum_rect_feature(ii, y, x+2*width/3, height, width/3)\n",
    "        score = black1 - white + black2\n",
    "    #three reions stacked vertically\n",
    "    if feature_type == 4:\n",
    "        black1 = sum_rect_feature(ii, y, x, height/3, width)\n",
    "        white = sum_rect_feature(ii, y+height/3, x, height/3, width)\n",
    "        black2 = sum_rect_feature(ii, y+2*height/3, x, height/3, width)\n",
    "        score = black1 - white + black2\n",
    "    \"\"\"\n",
    "    b1 w1\n",
    "    w2 b2\n",
    "    \"\"\"\n",
    "    if feature_type == 5:\n",
    "        black1 = sum_rect_feature(ii, y, x, height/2, width/2)\n",
    "        white1 = sum_rect_feature(ii, y, x+width/2, height/2, width/2)\n",
    "        black2 = sum_rect_feature(ii, y+height/2, x, height/2, width/2)\n",
    "        black1 = sum_rect_feature(ii, y+height/2, x+width/2, height/2, width/2)\n",
    "        score = black1 - white1-white2 + black2"
   ]
  },
  {
   "cell_type": "code",
   "execution_count": null,
   "id": "70ccabe8",
   "metadata": {},
   "outputs": [],
   "source": [
    "def create_features(img_height, img_width, min_feature_width, max_feature_width, min_feature_height, max_feature_height):\n",
    "    generated_features = []\n",
    "    for feature in feature_types:\n",
    "        feature_start_width = max(min_feature_width, feature_types[feature][0])\n",
    "        for feature_width in range(feature_start_width, max_feature_width,feature_types[feature][0]):\n",
    "            feature_start_height = max(min_feature_height, feature_types[feature][0])\n",
    "            for feature_height in range(feature_start_height,max_feature_width,feature_types[feature][1]):\n",
    "                    for x in range(img_width - feature_width):\n",
    "                        for y in range(img_height - feature_height):\n",
    "                            generated_features.append(HaarLikeFeature(feature,y,x,feature_width,feature_height,0,1))\n",
    "                            generated_features.append(HaarLikeFeature(feature,y,x,feature_width,feature_height,0,-1))\n",
    "    return generated_features\n",
    "    \n",
    "    \n",
    "    "
   ]
  },
  {
   "cell_type": "markdown",
   "id": "62520703",
   "metadata": {},
   "source": [
    "#### Ada boost learning"
   ]
  },
  {
   "cell_type": "code",
   "execution_count": null,
   "id": "af55c913",
   "metadata": {},
   "outputs": [],
   "source": [
    "learn(faces, non_faces, num_classifiers, min_feature_height, max_feature_height, min_feature_width, max_feature_width):\n",
    "    "
   ]
  },
  {
   "cell_type": "code",
   "execution_count": null,
   "id": "6f01fe96",
   "metadata": {},
   "outputs": [],
   "source": []
  },
  {
   "cell_type": "code",
   "execution_count": 5,
   "id": "30a0d577",
   "metadata": {},
   "outputs": [],
   "source": [
    "pos_training_path = 'data/trainset/faces'\n",
    "neg_training_path = 'data/trainset/non-faces'\n",
    "pos_testing_path = 'data/testset/faces'\n",
    "neg_testing_path = 'data/testset/non-faces'\n",
    "\n",
    "num_classifiers = 20\n",
    "min_feature_height = 4\n",
    "max_feature_height = 10\n",
    "min_feature_width = 4\n",
    "max_feature_width = 10"
   ]
  },
  {
   "cell_type": "code",
   "execution_count": 6,
   "id": "2710475d",
   "metadata": {},
   "outputs": [
    {
     "data": {
      "text/plain": [
       "[1, 2, 3, 4, 5, 6, 7]"
      ]
     },
     "execution_count": 6,
     "metadata": {},
     "output_type": "execute_result"
    }
   ],
   "source": [
    "a = [1,2,3,4,5]\n",
    "b= [6,7]\n",
    "a+b"
   ]
  },
  {
   "cell_type": "code",
   "execution_count": null,
   "id": "501cdae1",
   "metadata": {},
   "outputs": [],
   "source": []
  }
 ],
 "metadata": {
  "kernelspec": {
   "display_name": "Python 3 (ipykernel)",
   "language": "python",
   "name": "python3"
  },
  "language_info": {
   "codemirror_mode": {
    "name": "ipython",
    "version": 3
   },
   "file_extension": ".py",
   "mimetype": "text/x-python",
   "name": "python",
   "nbconvert_exporter": "python",
   "pygments_lexer": "ipython3",
   "version": "3.9.12"
  }
 },
 "nbformat": 4,
 "nbformat_minor": 5
}
