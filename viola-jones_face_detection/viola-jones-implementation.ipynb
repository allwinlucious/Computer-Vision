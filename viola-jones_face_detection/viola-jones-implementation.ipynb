{
 "cells": [
  {
   "cell_type": "code",
   "execution_count": 3,
   "id": "9ca6a545",
   "metadata": {},
   "outputs": [],
   "source": [
    "import numpy as np"
   ]
  },
  {
   "cell_type": "code",
   "execution_count": 5,
   "id": "7e9f89b9",
   "metadata": {},
   "outputs": [],
   "source": [
    " def pad_with(vector, pad_width, iaxis, kwargs):\n",
    "    pad_value = kwargs.get('padder', 0)\n",
    "    vector[:pad_width[0]] = pad_value\n",
    "    vector[-pad_width[1]:] = pad_value"
   ]
  },
  {
   "cell_type": "markdown",
   "id": "f10fce2e",
   "metadata": {},
   "source": [
    "###### given an image return its integral image"
   ]
  },
  {
   "cell_type": "code",
   "execution_count": 22,
   "id": "55e57018",
   "metadata": {},
   "outputs": [],
   "source": [
    "def integral_image(image):\n",
    "    height , width = image.shape\n",
    "    integral_image = np.pad(image, 1, pad_with) #zero matrix in shape of image with zero padding\n",
    "    for y in range(1,height+1):\n",
    "        for x in range(1,width+1):\n",
    "            integral_image[y,x] += integral_image[y-1,x] + integral_image[y,x-1] - integral_image[y-1,x-1]    \n",
    "    return integral_image[1:-1,1:-1]\n",
    "#padding to the left and top sides of image is actually sufficient "
   ]
  },
  {
   "cell_type": "code",
   "execution_count": null,
   "id": "acfe3f48",
   "metadata": {},
   "outputs": [],
   "source": [
    "class ViolaJones:\n",
    "    def __init__(self, T = 10): #no of weak classifiers\n",
    "        self.T = T\n",
    "    def train(self, trainingdata):\n",
    "        for i in range(len(trainingdata)):\n",
    "            trainingdata[i][0] = integral_image(trainingdata[i][0])\n",
    "        "
   ]
  },
  {
   "cell_type": "code",
   "execution_count": null,
   "id": "b223b2c3",
   "metadata": {},
   "outputs": [],
   "source": []
  }
 ],
 "metadata": {
  "kernelspec": {
   "display_name": "Python 3 (ipykernel)",
   "language": "python",
   "name": "python3"
  },
  "language_info": {
   "codemirror_mode": {
    "name": "ipython",
    "version": 3
   },
   "file_extension": ".py",
   "mimetype": "text/x-python",
   "name": "python",
   "nbconvert_exporter": "python",
   "pygments_lexer": "ipython3",
   "version": "3.9.12"
  }
 },
 "nbformat": 4,
 "nbformat_minor": 5
}
