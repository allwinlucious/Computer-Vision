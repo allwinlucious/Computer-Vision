{
 "cells": [
  {
   "cell_type": "code",
   "execution_count": 7,
   "id": "e90a4b21",
   "metadata": {
    "pycharm": {
     "name": "#%%\n"
    }
   },
   "outputs": [],
   "source": [
    "import numpy as np\n",
    "import Adaboost as ab\n",
    "import Utils as utils"
   ]
  },
  {
   "cell_type": "code",
   "execution_count": 8,
   "id": "30a0d577",
   "metadata": {
    "pycharm": {
     "name": "#%%\n"
    }
   },
   "outputs": [],
   "source": [
    "pos_training_path = 'data/trainset/faces'\n",
    "neg_training_path = 'data/trainset/non-faces'\n",
    "pos_testing_path = 'data/testset/faces'\n",
    "neg_testing_path = 'data/testset/non-faces'\n",
    "\n",
    "num_classifiers = 20\n",
    "min_feature_height = 4\n",
    "max_feature_height = 10\n",
    "min_feature_width = 4\n",
    "max_feature_width = 10"
   ]
  },
  {
   "cell_type": "code",
   "execution_count": null,
   "outputs": [],
   "source": [
    "print('Loading faces for training..')\n",
    "faces_training = utils.load_images(pos_training_path)\n",
    "#faces_ii_training = list(map(ii.to_integral_image, faces_training))\n",
    "print('..done. ' + str(len(faces_training)) + ' faces loaded.\\n\\nLoading non faces..')\n",
    "non_faces_training = utils.load_images(neg_training_path)\n",
    "#non_faces_ii_training = list(map(ii.to_integral_image, non_faces_training))\n",
    "print('..done. ' + str(len(non_faces_training)) + ' non faces loaded.\\n')\n",
    "\n",
    "print('Loading faces for testing..')\n",
    "faces_testing = utils.load_images(pos_testing_path)\n",
    "#faces_ii_testing = list(map(ii.to_integral_image, faces_testing))\n",
    "print('..done. ' + str(len(faces_testing)) + ' faces loaded.\\n\\nLoading test non faces..')\n",
    "non_faces_testing = utils.load_images(neg_testing_path)\n",
    "#non_faces_ii_testing = list(map(ii.to_integral_image, non_faces_testing))\n",
    "print('..done. ' + str(len(non_faces_testing)) + ' non faces loaded.\\n')"
   ],
   "metadata": {
    "collapsed": false,
    "pycharm": {
     "name": "#%%\n"
    }
   }
  },
  {
   "cell_type": "code",
   "execution_count": null,
   "outputs": [],
   "source": [
    "classifiers = ab.learn(faces_training, non_faces_training, num_classifiers, min_feature_height, max_feature_height, min_feature_width, max_feature_width)"
   ],
   "metadata": {
    "collapsed": false,
    "pycharm": {
     "name": "#%%\n"
    }
   }
  },
  {
   "cell_type": "code",
   "execution_count": null,
   "id": "309a3e2d",
   "metadata": {},
   "outputs": [],
   "source": [
    "classifiers = ab.learn(faces_training, non_faces_training, num_classifiers, min_feature_height, max_feature_height, min_feature_width, max_feature_width)"
   ]
  },
  {
   "cell_type": "code",
   "execution_count": null,
   "id": "4faeea83",
   "metadata": {},
   "outputs": [],
   "source": []
  }
 ],
 "metadata": {
  "kernelspec": {
   "display_name": "Python 3 (ipykernel)",
   "language": "python",
   "name": "python3"
  },
  "language_info": {
   "codemirror_mode": {
    "name": "ipython",
    "version": 3
   },
   "file_extension": ".py",
   "mimetype": "text/x-python",
   "name": "python",
   "nbconvert_exporter": "python",
   "pygments_lexer": "ipython3",
   "version": "3.9.12"
  }
 },
 "nbformat": 4,
 "nbformat_minor": 5
}